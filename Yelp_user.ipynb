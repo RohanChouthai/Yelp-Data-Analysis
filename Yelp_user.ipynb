{
 "cells": [
  {
   "cell_type": "markdown",
   "metadata": {},
   "source": [
    "# Statistical Hypothesis Testing and MCMC "
   ]
  },
  {
   "cell_type": "markdown",
   "metadata": {},
   "source": [
    "## Statistical Hypothesis testing of the yelper stars"
   ]
  },
  {
   "cell_type": "raw",
   "metadata": {},
   "source": [
    "In this section, we will examine the yelp user's average_stars. We will hypothisize about the average_stars and do statistical hypothesis testing. We will also build a MLE to predict a model based on the distribution of our data. "
   ]
  },
  {
   "cell_type": "code",
   "execution_count": 1,
   "metadata": {},
   "outputs": [],
   "source": [
    "%matplotlib inline\n",
    "import numpy as np\n",
    "import pandas as pd\n",
    "import matplotlib.pyplot as plt\n",
    "import seaborn as sns\n",
    "sns.set(color_codes=True)\n",
    "\n",
    "# Set some Pandas options\n",
    "pd.set_option('display.notebook_repr_html', True)\n",
    "pd.set_option('display.max_columns', 25)\n",
    "pd.set_option('display.max_rows', 25)"
   ]
  },
  {
   "cell_type": "code",
   "execution_count": 2,
   "metadata": {
    "scrolled": true
   },
   "outputs": [
    {
     "data": {
      "text/html": [
       "<div>\n",
       "<style scoped>\n",
       "    .dataframe tbody tr th:only-of-type {\n",
       "        vertical-align: middle;\n",
       "    }\n",
       "\n",
       "    .dataframe tbody tr th {\n",
       "        vertical-align: top;\n",
       "    }\n",
       "\n",
       "    .dataframe thead th {\n",
       "        text-align: right;\n",
       "    }\n",
       "</style>\n",
       "<table border=\"1\" class=\"dataframe\">\n",
       "  <thead>\n",
       "    <tr style=\"text-align: right;\">\n",
       "      <th></th>\n",
       "      <th>user_id</th>\n",
       "      <th>name</th>\n",
       "      <th>review_count</th>\n",
       "      <th>yelping_since</th>\n",
       "      <th>friends</th>\n",
       "      <th>useful</th>\n",
       "      <th>funny</th>\n",
       "      <th>cool</th>\n",
       "      <th>fans</th>\n",
       "      <th>elite</th>\n",
       "      <th>average_stars</th>\n",
       "      <th>compliment_hot</th>\n",
       "      <th>compliment_more</th>\n",
       "      <th>compliment_profile</th>\n",
       "      <th>compliment_cute</th>\n",
       "      <th>compliment_list</th>\n",
       "      <th>compliment_note</th>\n",
       "      <th>compliment_plain</th>\n",
       "      <th>compliment_cool</th>\n",
       "      <th>compliment_funny</th>\n",
       "      <th>compliment_writer</th>\n",
       "      <th>compliment_photos</th>\n",
       "    </tr>\n",
       "  </thead>\n",
       "  <tbody>\n",
       "    <tr>\n",
       "      <th>0</th>\n",
       "      <td>JJ-aSuM4pCFPdkfoZ34q0Q</td>\n",
       "      <td>Chris</td>\n",
       "      <td>10</td>\n",
       "      <td>2013-09-24</td>\n",
       "      <td>0njfJmB-7n84DlIgUByCNw, rFn3Xe3RqHxRSxWOU19Gpg...</td>\n",
       "      <td>0</td>\n",
       "      <td>0</td>\n",
       "      <td>0</td>\n",
       "      <td>0</td>\n",
       "      <td>None</td>\n",
       "      <td>3.70</td>\n",
       "      <td>0</td>\n",
       "      <td>0</td>\n",
       "      <td>0</td>\n",
       "      <td>0</td>\n",
       "      <td>0</td>\n",
       "      <td>0</td>\n",
       "      <td>0</td>\n",
       "      <td>0</td>\n",
       "      <td>0</td>\n",
       "      <td>0</td>\n",
       "      <td>0</td>\n",
       "    </tr>\n",
       "    <tr>\n",
       "      <th>1</th>\n",
       "      <td>uUzsFQn_6cXDh6rPNGbIFA</td>\n",
       "      <td>Tiffy</td>\n",
       "      <td>1</td>\n",
       "      <td>2017-03-02</td>\n",
       "      <td>None</td>\n",
       "      <td>0</td>\n",
       "      <td>0</td>\n",
       "      <td>0</td>\n",
       "      <td>0</td>\n",
       "      <td>None</td>\n",
       "      <td>2.00</td>\n",
       "      <td>0</td>\n",
       "      <td>0</td>\n",
       "      <td>0</td>\n",
       "      <td>0</td>\n",
       "      <td>0</td>\n",
       "      <td>0</td>\n",
       "      <td>0</td>\n",
       "      <td>0</td>\n",
       "      <td>0</td>\n",
       "      <td>0</td>\n",
       "      <td>0</td>\n",
       "    </tr>\n",
       "    <tr>\n",
       "      <th>2</th>\n",
       "      <td>mBneaEEH5EMyxaVyqS-72A</td>\n",
       "      <td>Mark</td>\n",
       "      <td>6</td>\n",
       "      <td>2015-03-13</td>\n",
       "      <td>None</td>\n",
       "      <td>0</td>\n",
       "      <td>0</td>\n",
       "      <td>0</td>\n",
       "      <td>0</td>\n",
       "      <td>None</td>\n",
       "      <td>4.67</td>\n",
       "      <td>0</td>\n",
       "      <td>0</td>\n",
       "      <td>0</td>\n",
       "      <td>0</td>\n",
       "      <td>0</td>\n",
       "      <td>0</td>\n",
       "      <td>0</td>\n",
       "      <td>0</td>\n",
       "      <td>0</td>\n",
       "      <td>0</td>\n",
       "      <td>0</td>\n",
       "    </tr>\n",
       "    <tr>\n",
       "      <th>3</th>\n",
       "      <td>W5mJGs-dcDWRGEhAzUYtoA</td>\n",
       "      <td>Evelyn</td>\n",
       "      <td>3</td>\n",
       "      <td>2016-09-08</td>\n",
       "      <td>None</td>\n",
       "      <td>0</td>\n",
       "      <td>0</td>\n",
       "      <td>0</td>\n",
       "      <td>0</td>\n",
       "      <td>None</td>\n",
       "      <td>4.67</td>\n",
       "      <td>0</td>\n",
       "      <td>0</td>\n",
       "      <td>0</td>\n",
       "      <td>0</td>\n",
       "      <td>0</td>\n",
       "      <td>0</td>\n",
       "      <td>0</td>\n",
       "      <td>0</td>\n",
       "      <td>0</td>\n",
       "      <td>0</td>\n",
       "      <td>0</td>\n",
       "    </tr>\n",
       "    <tr>\n",
       "      <th>4</th>\n",
       "      <td>4E8--zUZO1Rr1IBK4_83fg</td>\n",
       "      <td>Lisa</td>\n",
       "      <td>11</td>\n",
       "      <td>2012-07-16</td>\n",
       "      <td>None</td>\n",
       "      <td>4</td>\n",
       "      <td>0</td>\n",
       "      <td>0</td>\n",
       "      <td>0</td>\n",
       "      <td>None</td>\n",
       "      <td>3.45</td>\n",
       "      <td>0</td>\n",
       "      <td>0</td>\n",
       "      <td>0</td>\n",
       "      <td>0</td>\n",
       "      <td>0</td>\n",
       "      <td>0</td>\n",
       "      <td>0</td>\n",
       "      <td>0</td>\n",
       "      <td>0</td>\n",
       "      <td>1</td>\n",
       "      <td>0</td>\n",
       "    </tr>\n",
       "  </tbody>\n",
       "</table>\n",
       "</div>"
      ],
      "text/plain": [
       "                  user_id    name  review_count yelping_since  \\\n",
       "0  JJ-aSuM4pCFPdkfoZ34q0Q   Chris            10    2013-09-24   \n",
       "1  uUzsFQn_6cXDh6rPNGbIFA   Tiffy             1    2017-03-02   \n",
       "2  mBneaEEH5EMyxaVyqS-72A    Mark             6    2015-03-13   \n",
       "3  W5mJGs-dcDWRGEhAzUYtoA  Evelyn             3    2016-09-08   \n",
       "4  4E8--zUZO1Rr1IBK4_83fg    Lisa            11    2012-07-16   \n",
       "\n",
       "                                             friends  useful  funny  cool  \\\n",
       "0  0njfJmB-7n84DlIgUByCNw, rFn3Xe3RqHxRSxWOU19Gpg...       0      0     0   \n",
       "1                                               None       0      0     0   \n",
       "2                                               None       0      0     0   \n",
       "3                                               None       0      0     0   \n",
       "4                                               None       4      0     0   \n",
       "\n",
       "   fans elite  average_stars  compliment_hot  compliment_more  \\\n",
       "0     0  None           3.70               0                0   \n",
       "1     0  None           2.00               0                0   \n",
       "2     0  None           4.67               0                0   \n",
       "3     0  None           4.67               0                0   \n",
       "4     0  None           3.45               0                0   \n",
       "\n",
       "   compliment_profile  compliment_cute  compliment_list  compliment_note  \\\n",
       "0                   0                0                0                0   \n",
       "1                   0                0                0                0   \n",
       "2                   0                0                0                0   \n",
       "3                   0                0                0                0   \n",
       "4                   0                0                0                0   \n",
       "\n",
       "   compliment_plain  compliment_cool  compliment_funny  compliment_writer  \\\n",
       "0                 0                0                 0                  0   \n",
       "1                 0                0                 0                  0   \n",
       "2                 0                0                 0                  0   \n",
       "3                 0                0                 0                  0   \n",
       "4                 0                0                 0                  1   \n",
       "\n",
       "   compliment_photos  \n",
       "0                  0  \n",
       "1                  0  \n",
       "2                  0  \n",
       "3                  0  \n",
       "4                  0  "
      ]
     },
     "execution_count": 2,
     "metadata": {},
     "output_type": "execute_result"
    }
   ],
   "source": [
    "yelp_user=pd.read_csv('C:\\\\Users\\\\rohan\\\\challenge\\\\yelp_user.csv',sep=',')\n",
    "yelp_user.head()"
   ]
  },
  {
   "cell_type": "raw",
   "metadata": {},
   "source": [
    "I am interested in checking out if the users who have been yelping since a long time give less stars to the restaurents. My hypothesis is that long term yelpers are foodies who are good critics of food. Hence, they'll have a lower average stars as compared to the recent yelpers who have just started using the app. I want to test my hypothesis. \n",
    "\n",
    "I will first subset the columns I am going to use for testing my hypothesis in a new dataframe. "
   ]
  },
  {
   "cell_type": "code",
   "execution_count": 4,
   "metadata": {},
   "outputs": [
    {
     "data": {
      "text/html": [
       "<div>\n",
       "<style scoped>\n",
       "    .dataframe tbody tr th:only-of-type {\n",
       "        vertical-align: middle;\n",
       "    }\n",
       "\n",
       "    .dataframe tbody tr th {\n",
       "        vertical-align: top;\n",
       "    }\n",
       "\n",
       "    .dataframe thead th {\n",
       "        text-align: right;\n",
       "    }\n",
       "</style>\n",
       "<table border=\"1\" class=\"dataframe\">\n",
       "  <thead>\n",
       "    <tr style=\"text-align: right;\">\n",
       "      <th></th>\n",
       "      <th>user_id</th>\n",
       "      <th>yelping_since</th>\n",
       "      <th>average_stars</th>\n",
       "    </tr>\n",
       "  </thead>\n",
       "  <tbody>\n",
       "    <tr>\n",
       "      <th>0</th>\n",
       "      <td>JJ-aSuM4pCFPdkfoZ34q0Q</td>\n",
       "      <td>2013-09-24</td>\n",
       "      <td>3.70</td>\n",
       "    </tr>\n",
       "    <tr>\n",
       "      <th>1</th>\n",
       "      <td>uUzsFQn_6cXDh6rPNGbIFA</td>\n",
       "      <td>2017-03-02</td>\n",
       "      <td>2.00</td>\n",
       "    </tr>\n",
       "    <tr>\n",
       "      <th>2</th>\n",
       "      <td>mBneaEEH5EMyxaVyqS-72A</td>\n",
       "      <td>2015-03-13</td>\n",
       "      <td>4.67</td>\n",
       "    </tr>\n",
       "    <tr>\n",
       "      <th>3</th>\n",
       "      <td>W5mJGs-dcDWRGEhAzUYtoA</td>\n",
       "      <td>2016-09-08</td>\n",
       "      <td>4.67</td>\n",
       "    </tr>\n",
       "    <tr>\n",
       "      <th>4</th>\n",
       "      <td>4E8--zUZO1Rr1IBK4_83fg</td>\n",
       "      <td>2012-07-16</td>\n",
       "      <td>3.45</td>\n",
       "    </tr>\n",
       "  </tbody>\n",
       "</table>\n",
       "</div>"
      ],
      "text/plain": [
       "                  user_id yelping_since  average_stars\n",
       "0  JJ-aSuM4pCFPdkfoZ34q0Q    2013-09-24           3.70\n",
       "1  uUzsFQn_6cXDh6rPNGbIFA    2017-03-02           2.00\n",
       "2  mBneaEEH5EMyxaVyqS-72A    2015-03-13           4.67\n",
       "3  W5mJGs-dcDWRGEhAzUYtoA    2016-09-08           4.67\n",
       "4  4E8--zUZO1Rr1IBK4_83fg    2012-07-16           3.45"
      ]
     },
     "execution_count": 4,
     "metadata": {},
     "output_type": "execute_result"
    }
   ],
   "source": [
    "reviews_analysis=yelp_user[['user_id','yelping_since','average_stars']]\n",
    "reviews_analysis.head()"
   ]
  },
  {
   "cell_type": "raw",
   "metadata": {},
   "source": [
    "I have to check for the quality of this data. I will start off by checking if the dataframe has any NaNs. "
   ]
  },
  {
   "cell_type": "code",
   "execution_count": 5,
   "metadata": {},
   "outputs": [
    {
     "data": {
      "text/plain": [
       "False"
      ]
     },
     "execution_count": 5,
     "metadata": {},
     "output_type": "execute_result"
    }
   ],
   "source": [
    "reviews_analysis.isnull().values.any()"
   ]
  },
  {
   "cell_type": "raw",
   "metadata": {},
   "source": [
    "We can see that there are no NaN values. I will now make two dataframes. First, I will define the newer yelpers as those who have been using it since last 2 years. All others for the purpose of my analysis will be considered older yelpers. "
   ]
  },
  {
   "cell_type": "code",
   "execution_count": 8,
   "metadata": {},
   "outputs": [
    {
     "data": {
      "text/html": [
       "<div>\n",
       "<style scoped>\n",
       "    .dataframe tbody tr th:only-of-type {\n",
       "        vertical-align: middle;\n",
       "    }\n",
       "\n",
       "    .dataframe tbody tr th {\n",
       "        vertical-align: top;\n",
       "    }\n",
       "\n",
       "    .dataframe thead th {\n",
       "        text-align: right;\n",
       "    }\n",
       "</style>\n",
       "<table border=\"1\" class=\"dataframe\">\n",
       "  <thead>\n",
       "    <tr style=\"text-align: right;\">\n",
       "      <th></th>\n",
       "      <th>user_id</th>\n",
       "      <th>yelping_since</th>\n",
       "      <th>average_stars</th>\n",
       "    </tr>\n",
       "  </thead>\n",
       "  <tbody>\n",
       "    <tr>\n",
       "      <th>1</th>\n",
       "      <td>uUzsFQn_6cXDh6rPNGbIFA</td>\n",
       "      <td>2017-03-02</td>\n",
       "      <td>2.00</td>\n",
       "    </tr>\n",
       "    <tr>\n",
       "      <th>3</th>\n",
       "      <td>W5mJGs-dcDWRGEhAzUYtoA</td>\n",
       "      <td>2016-09-08</td>\n",
       "      <td>4.67</td>\n",
       "    </tr>\n",
       "    <tr>\n",
       "      <th>10</th>\n",
       "      <td>WRae-wZkpRoxMrgJdqwyxg</td>\n",
       "      <td>2017-11-29</td>\n",
       "      <td>5.00</td>\n",
       "    </tr>\n",
       "    <tr>\n",
       "      <th>11</th>\n",
       "      <td>Mmv5fPxbF8XEMN4EPT_Khg</td>\n",
       "      <td>2016-06-24</td>\n",
       "      <td>1.67</td>\n",
       "    </tr>\n",
       "    <tr>\n",
       "      <th>14</th>\n",
       "      <td>V--GjQPlTpeWbcB2cS06Gw</td>\n",
       "      <td>2017-10-24</td>\n",
       "      <td>3.00</td>\n",
       "    </tr>\n",
       "  </tbody>\n",
       "</table>\n",
       "</div>"
      ],
      "text/plain": [
       "                   user_id yelping_since  average_stars\n",
       "1   uUzsFQn_6cXDh6rPNGbIFA    2017-03-02           2.00\n",
       "3   W5mJGs-dcDWRGEhAzUYtoA    2016-09-08           4.67\n",
       "10  WRae-wZkpRoxMrgJdqwyxg    2017-11-29           5.00\n",
       "11  Mmv5fPxbF8XEMN4EPT_Khg    2016-06-24           1.67\n",
       "14  V--GjQPlTpeWbcB2cS06Gw    2017-10-24           3.00"
      ]
     },
     "execution_count": 8,
     "metadata": {},
     "output_type": "execute_result"
    }
   ],
   "source": [
    "New_users=reviews_analysis.loc[(reviews_analysis['yelping_since'] > '2016-01-01')]\n",
    "New_users.head()"
   ]
  },
  {
   "cell_type": "raw",
   "metadata": {},
   "source": [
    "And now the dataframe for the older users will be as follows. "
   ]
  },
  {
   "cell_type": "code",
   "execution_count": 9,
   "metadata": {},
   "outputs": [
    {
     "data": {
      "text/html": [
       "<div>\n",
       "<style scoped>\n",
       "    .dataframe tbody tr th:only-of-type {\n",
       "        vertical-align: middle;\n",
       "    }\n",
       "\n",
       "    .dataframe tbody tr th {\n",
       "        vertical-align: top;\n",
       "    }\n",
       "\n",
       "    .dataframe thead th {\n",
       "        text-align: right;\n",
       "    }\n",
       "</style>\n",
       "<table border=\"1\" class=\"dataframe\">\n",
       "  <thead>\n",
       "    <tr style=\"text-align: right;\">\n",
       "      <th></th>\n",
       "      <th>user_id</th>\n",
       "      <th>yelping_since</th>\n",
       "      <th>average_stars</th>\n",
       "    </tr>\n",
       "  </thead>\n",
       "  <tbody>\n",
       "    <tr>\n",
       "      <th>0</th>\n",
       "      <td>JJ-aSuM4pCFPdkfoZ34q0Q</td>\n",
       "      <td>2013-09-24</td>\n",
       "      <td>3.70</td>\n",
       "    </tr>\n",
       "    <tr>\n",
       "      <th>2</th>\n",
       "      <td>mBneaEEH5EMyxaVyqS-72A</td>\n",
       "      <td>2015-03-13</td>\n",
       "      <td>4.67</td>\n",
       "    </tr>\n",
       "    <tr>\n",
       "      <th>4</th>\n",
       "      <td>4E8--zUZO1Rr1IBK4_83fg</td>\n",
       "      <td>2012-07-16</td>\n",
       "      <td>3.45</td>\n",
       "    </tr>\n",
       "    <tr>\n",
       "      <th>5</th>\n",
       "      <td>Ob-2oGBQ7rwwYwUvhmnf7g</td>\n",
       "      <td>2012-05-01</td>\n",
       "      <td>4.78</td>\n",
       "    </tr>\n",
       "    <tr>\n",
       "      <th>6</th>\n",
       "      <td>JaTVvKsBl0bHHJEpESn4pQ</td>\n",
       "      <td>2013-03-23</td>\n",
       "      <td>5.00</td>\n",
       "    </tr>\n",
       "  </tbody>\n",
       "</table>\n",
       "</div>"
      ],
      "text/plain": [
       "                  user_id yelping_since  average_stars\n",
       "0  JJ-aSuM4pCFPdkfoZ34q0Q    2013-09-24           3.70\n",
       "2  mBneaEEH5EMyxaVyqS-72A    2015-03-13           4.67\n",
       "4  4E8--zUZO1Rr1IBK4_83fg    2012-07-16           3.45\n",
       "5  Ob-2oGBQ7rwwYwUvhmnf7g    2012-05-01           4.78\n",
       "6  JaTVvKsBl0bHHJEpESn4pQ    2013-03-23           5.00"
      ]
     },
     "execution_count": 9,
     "metadata": {},
     "output_type": "execute_result"
    }
   ],
   "source": [
    "Old_users=reviews_analysis.loc[(reviews_analysis['yelping_since'] < '2016-01-01')]\n",
    "Old_users.head()"
   ]
  },
  {
   "cell_type": "raw",
   "metadata": {},
   "source": [
    "A good way to compare the stars given by new and old users is to take their mean. Let us do that. "
   ]
  },
  {
   "cell_type": "code",
   "execution_count": 11,
   "metadata": {},
   "outputs": [
    {
     "data": {
      "text/plain": [
       "3.6913265697297337"
      ]
     },
     "execution_count": 11,
     "metadata": {},
     "output_type": "execute_result"
    }
   ],
   "source": [
    "New_users[\"average_stars\"].mean()\n"
   ]
  },
  {
   "cell_type": "code",
   "execution_count": 12,
   "metadata": {},
   "outputs": [
    {
     "data": {
      "text/plain": [
       "3.7148497684152932"
      ]
     },
     "execution_count": 12,
     "metadata": {},
     "output_type": "execute_result"
    }
   ],
   "source": [
    "Old_users[\"average_stars\"].mean()"
   ]
  },
  {
   "cell_type": "raw",
   "metadata": {},
   "source": [
    "We can see that old users in fact have higher average star than the new users. That's interesting !!\n",
    "\n",
    "Let us now perform a Two Sample T test to check our hypothesis. "
   ]
  },
  {
   "cell_type": "code",
   "execution_count": 13,
   "metadata": {},
   "outputs": [
    {
     "data": {
      "text/plain": [
       "Ttest_indResult(statistic=-7.526521305107032, pvalue=5.22656993930623e-14)"
      ]
     },
     "execution_count": 13,
     "metadata": {},
     "output_type": "execute_result"
    }
   ],
   "source": [
    "import scipy.stats as stats\n",
    "stats.ttest_ind(a= New_users.average_stars,\n",
    "                b= Old_users.average_stars,\n",
    "                equal_var=False)  "
   ]
  },
  {
   "cell_type": "raw",
   "metadata": {},
   "source": [
    "We can see that the p value is very high. This would mean that we fail to reject the null hypothesis that older yelp users have a lower average star rating since the p value is way greater than the 95% CI. We can thus conclude that the hypothesis that the older yelpers have a lower average star on account of them being better food critics is not true."
   ]
  },
  {
   "cell_type": "markdown",
   "metadata": {},
   "source": [
    "## Estimating a model"
   ]
  },
  {
   "cell_type": "raw",
   "metadata": {},
   "source": [
    "\n",
    "I already did the hypothesis testing to see if my hypothesis that older users have a lower star giving potential than the newer ones. It wasn't the case. I will now check how the number of reviews given by the yelper is related to the average stars of that yelper. First off, I will visualize it.\n"
   ]
  },
  {
   "cell_type": "code",
   "execution_count": 15,
   "metadata": {},
   "outputs": [
    {
     "data": {
      "text/plain": [
       "<matplotlib.axes._subplots.AxesSubplot at 0x212850b5908>"
      ]
     },
     "execution_count": 15,
     "metadata": {},
     "output_type": "execute_result"
    },
    {
     "data": {
      "image/png": "[encoded data removed]",
      "text/plain": [
       "<matplotlib.figure.Figure at 0x212850b5128>"
      ]
     },
     "metadata": {},
     "output_type": "display_data"
    }
   ],
   "source": [
    "sns.regplot(x='review_count',y='average_stars',data=yelp_user)"
   ]
  },
  {
   "cell_type": "raw",
   "metadata": {},
   "source": [
    "We can see that contrary to my initial belief, the average_stars actually increase with the review_count. Let us try to group by review_count the average_stars. For that, I will subset these two columns in a new dataframe. "
   ]
  },
  {
   "cell_type": "code",
   "execution_count": 16,
   "metadata": {
    "scrolled": false
   },
   "outputs": [
    {
     "data": {
      "text/html": [
       "<div>\n",
       "<style scoped>\n",
       "    .dataframe tbody tr th:only-of-type {\n",
       "        vertical-align: middle;\n",
       "    }\n",
       "\n",
       "    .dataframe tbody tr th {\n",
       "        vertical-align: top;\n",
       "    }\n",
       "\n",
       "    .dataframe thead th {\n",
       "        text-align: right;\n",
       "    }\n",
       "</style>\n",
       "<table border=\"1\" class=\"dataframe\">\n",
       "  <thead>\n",
       "    <tr style=\"text-align: right;\">\n",
       "      <th></th>\n",
       "      <th>review_count</th>\n",
       "      <th>average_stars</th>\n",
       "    </tr>\n",
       "  </thead>\n",
       "  <tbody>\n",
       "    <tr>\n",
       "      <th>0</th>\n",
       "      <td>10</td>\n",
       "      <td>3.70</td>\n",
       "    </tr>\n",
       "    <tr>\n",
       "      <th>1</th>\n",
       "      <td>1</td>\n",
       "      <td>2.00</td>\n",
       "    </tr>\n",
       "    <tr>\n",
       "      <th>2</th>\n",
       "      <td>6</td>\n",
       "      <td>4.67</td>\n",
       "    </tr>\n",
       "    <tr>\n",
       "      <th>3</th>\n",
       "      <td>3</td>\n",
       "      <td>4.67</td>\n",
       "    </tr>\n",
       "    <tr>\n",
       "      <th>4</th>\n",
       "      <td>11</td>\n",
       "      <td>3.45</td>\n",
       "    </tr>\n",
       "  </tbody>\n",
       "</table>\n",
       "</div>"
      ],
      "text/plain": [
       "   review_count  average_stars\n",
       "0            10           3.70\n",
       "1             1           2.00\n",
       "2             6           4.67\n",
       "3             3           4.67\n",
       "4            11           3.45"
      ]
     },
     "execution_count": 16,
     "metadata": {},
     "output_type": "execute_result"
    }
   ],
   "source": [
    "star_count=yelp_user[['review_count','average_stars']]\n",
    "star_count.head()"
   ]
  },
  {
   "cell_type": "code",
   "execution_count": 19,
   "metadata": {},
   "outputs": [
    {
     "data": {
      "text/html": [
       "<div>\n",
       "<style scoped>\n",
       "    .dataframe tbody tr th:only-of-type {\n",
       "        vertical-align: middle;\n",
       "    }\n",
       "\n",
       "    .dataframe tbody tr th {\n",
       "        vertical-align: top;\n",
       "    }\n",
       "\n",
       "    .dataframe thead th {\n",
       "        text-align: right;\n",
       "    }\n",
       "</style>\n",
       "<table border=\"1\" class=\"dataframe\">\n",
       "  <thead>\n",
       "    <tr style=\"text-align: right;\">\n",
       "      <th></th>\n",
       "      <th>average_stars</th>\n",
       "    </tr>\n",
       "    <tr>\n",
       "      <th>review_count</th>\n",
       "      <th></th>\n",
       "    </tr>\n",
       "  </thead>\n",
       "  <tbody>\n",
       "    <tr>\n",
       "      <th>0</th>\n",
       "      <td>3.865896</td>\n",
       "    </tr>\n",
       "    <tr>\n",
       "      <th>1</th>\n",
       "      <td>3.577236</td>\n",
       "    </tr>\n",
       "    <tr>\n",
       "      <th>2</th>\n",
       "      <td>3.681532</td>\n",
       "    </tr>\n",
       "    <tr>\n",
       "      <th>3</th>\n",
       "      <td>3.706930</td>\n",
       "    </tr>\n",
       "    <tr>\n",
       "      <th>4</th>\n",
       "      <td>3.721969</td>\n",
       "    </tr>\n",
       "  </tbody>\n",
       "</table>\n",
       "</div>"
      ],
      "text/plain": [
       "              average_stars\n",
       "review_count               \n",
       "0                  3.865896\n",
       "1                  3.577236\n",
       "2                  3.681532\n",
       "3                  3.706930\n",
       "4                  3.721969"
      ]
     },
     "execution_count": 19,
     "metadata": {},
     "output_type": "execute_result"
    }
   ],
   "source": [
    "star_count_grouped=star_count.groupby([\"review_count\"]).mean()\n",
    "star_count_grouped.head()"
   ]
  },
  {
   "cell_type": "raw",
   "metadata": {},
   "source": [
    "Okay, now that I have grouped the average_stars by the review_count, I essentially have a average_star rating for each of the review_count. I will now plot a histogram to see what the distribution is for this data. "
   ]
  },
  {
   "cell_type": "code",
   "execution_count": 21,
   "metadata": {
    "scrolled": true
   },
   "outputs": [
    {
     "data": {
      "text/plain": [
       "<matplotlib.axes._subplots.AxesSubplot at 0x2128bfc54e0>"
      ]
     },
     "execution_count": 21,
     "metadata": {},
     "output_type": "execute_result"
    },
    {
     "data": {
      "image/png": "[encoded data removed]",
      "text/plain": [
       "<matplotlib.figure.Figure at 0x2128bfc5358>"
      ]
     },
     "metadata": {},
     "output_type": "display_data"
    }
   ],
   "source": [
    "sns.distplot(star_count_grouped)"
   ]
  },
  {
   "cell_type": "raw",
   "metadata": {},
   "source": [
    "This data as we can see has a normal distribution. I will thus try to estimate a normal model based on the histogram that fits the data. \n",
    "\n",
    "First, let us find the mean and the standard deviation of this data. "
   ]
  },
  {
   "cell_type": "code",
   "execution_count": 22,
   "metadata": {},
   "outputs": [
    {
     "data": {
      "text/plain": [
       "3.75348532682819"
      ]
     },
     "execution_count": 22,
     "metadata": {},
     "output_type": "execute_result"
    }
   ],
   "source": [
    "mu=star_count_grouped[\"average_stars\"].mean()\n",
    "sig=star_count_grouped[\"average_stars\"].std()\n",
    "mu\n"
   ]
  },
  {
   "cell_type": "raw",
   "metadata": {},
   "source": [
    "So now we know that our data is normally distributed. We also calculated the mean and sd of the data. Let us know build an algorithm to sample through these posteriors. "
   ]
  },
  {
   "cell_type": "markdown",
   "metadata": {},
   "source": [
    "## MCMC Sampling"
   ]
  },
  {
   "cell_type": "markdown",
   "metadata": {},
   "source": [
    "### Estimating the normal distribution of review_count- average_stars model"
   ]
  },
  {
   "cell_type": "raw",
   "metadata": {},
   "source": [
    "We sample some random variates from the Normal distribution of our data, and MCMC-estimate it with a search on the x axis. I will essentially define logP(θ) function and pass it to the sampler class. The sampler class will then return a sampler object which I will use to sample from ⁡P(θ).   "
   ]
  },
  {
   "cell_type": "code",
   "execution_count": 23,
   "metadata": {},
   "outputs": [
    {
     "name": "stdout",
     "output_type": "stream",
     "text": [
      "Progress: [##############################] 10000 of 10000 samples\n"
     ]
    },
    {
     "data": {
      "image/png": "[encoded data removed]",
      "text/plain": [
       "<matplotlib.figure.Figure at 0x2128c1a87f0>"
      ]
     },
     "metadata": {},
     "output_type": "display_data"
    }
   ],
   "source": [
    "%matplotlib inline\n",
    "import matplotlib.pyplot as plt\n",
    "import sampyl as smp\n",
    "from sampyl import np\n",
    "import math\n",
    "\n",
    "# Autograd throws some warnings that are useful, but this is\n",
    "# a demonstration, let's squelch them\n",
    "import warnings\n",
    "warnings.filterwarnings('ignore')\n",
    "\n",
    "mu, sig = mu, sig\n",
    "def logp(x):\n",
    "    return  -np.log(sig) - (x - mu)**2/(2*sig**2)\n",
    "\n",
    "def gaussian(x):\n",
    "    return (1. / (sig * math.sqrt(2 * math.pi))) * math.exp((-(x - mu)**2)/(2 * sig**2))\n",
    "\n",
    "start = smp.find_MAP(logp, {'x':1.})\n",
    "metro = smp.Metropolis(logp, start)\n",
    "chain = metro(10000, burn=2000, thin=4)\n",
    "\n",
    "xs = np.linspace(-5, 10, num=2000)\n",
    "normald = [gaussian(x) for x in xs]\n",
    "\n",
    "fig, axes = plt.subplots(figsize=(16,4),ncols=3)\n",
    "for i, ax in enumerate(axes):\n",
    "    if (i == 0):\n",
    "        ax.plot(chain.x)\n",
    "    elif (i == 1):\n",
    "        ax.hist(chain.x, bins=30)\n",
    "        ax.vlines(mu, 0, 250, linestyles='--')\n",
    "    else:\n",
    "        ax.plot(xs, normald)"
   ]
  },
  {
   "cell_type": "raw",
   "metadata": {},
   "source": [
    "I plotted the randomly sampled data from my dataset from the log of normal distribution with a mean of 3.75 and we can see the dotted line is also very close to that.The shape of the gaussian is also perfectly estimated. \n",
    "\n"
   ]
  },
  {
   "cell_type": "markdown",
   "metadata": {},
   "source": [
    "### Estimating a model based on the data with histogram expected to match normal distribution"
   ]
  },
  {
   "cell_type": "raw",
   "metadata": {},
   "source": [
    "I will now estimate a model based on my data expected to match the histogram for normal distribution by doing an exponential search in the parameter space (μ,σ). I will infact compare the mean and standard deviation of the data sampled by this model with the population mean and stardard deviation."
   ]
  },
  {
   "cell_type": "code",
   "execution_count": 26,
   "metadata": {
    "scrolled": true
   },
   "outputs": [
    {
     "name": "stdout",
     "output_type": "stream",
     "text": [
      "Progress: [##############################] 10000 of 10000 samples\n",
      "exact values:\n",
      "3.75348532682819 0.18031278127365452\n",
      "estimated values:\n",
      "3.7471755490617675 0.18142220936635675\n"
     ]
    },
    {
     "data": {
      "image/png": "[encoded data removed]",
      "text/plain": [
       "<matplotlib.figure.Figure at 0x2128c25ce48>"
      ]
     },
     "metadata": {},
     "output_type": "display_data"
    }
   ],
   "source": [
    "%matplotlib inline\n",
    "import matplotlib.pyplot as plt\n",
    "import sampyl as smp\n",
    "from sampyl import np\n",
    "import math\n",
    "\n",
    "# Autograd throws some warnings that are useful, but this is\n",
    "# a demonstration, let's squelch them\n",
    "import warnings\n",
    "warnings.filterwarnings('ignore')\n",
    "\n",
    "mu_r, sig_r = mu,sig\n",
    "data = np.random.normal(mu_r, sig_r, 1000)\n",
    "\n",
    "def gaussian(x, m, s):\n",
    "    return (1. / (s * math.sqrt(2 * math.pi))) * math.exp((-(x - m)**2)/(2 * s**2))\n",
    "\n",
    "# Define the log-P function here\n",
    "def logp(mu_p, sig_p):\n",
    "    model = smp.Model()\n",
    "    \n",
    "    # Normal log-likelihood\n",
    "    model.add(smp.normal(data, mu=mu_p, sig=sig_p))\n",
    "\n",
    "    # Exponential log-priors for parameters\n",
    "    model.add(smp.exponential(mu_p), smp.exponential(sig_p))\n",
    "    \n",
    "    return model()\n",
    "\n",
    "start = smp.find_MAP(logp, {'mu_p':1., 'sig_p':1.})\n",
    "metro = smp.Metropolis(logp, start)\n",
    "chain = metro(10000, burn=2000, thin=4)\n",
    "print('exact values:')\n",
    "print(mu_r, sig_r)\n",
    "print('estimated values:')\n",
    "print(chain.mu_p.mean(), chain.sig_p.mean())\n",
    "\n",
    "xs = np.linspace(-5, 10, num=2000)\n",
    "exact = [gaussian(x, mu_r, sig_r) for x in xs]\n",
    "estimated = [gaussian(x, chain.mu_p.mean(), chain.sig_p.mean()) for x in xs]\n",
    "\n",
    "fig, axes = plt.subplots(figsize=(16,4),ncols=4)\n",
    "for i, ax in enumerate(axes):\n",
    "    if (i == 0):\n",
    "        ax.plot(chain.mu_p)\n",
    "    elif (i == 1):\n",
    "        ax.plot(chain.sig_p)\n",
    "    elif (i == 2):\n",
    "        ax.plot(xs, exact)\n",
    "    elif (i -- 3):\n",
    "        ax.plot(xs, estimated)\n"
   ]
  },
  {
   "cell_type": "raw",
   "metadata": {},
   "source": [
    "We thus saw that the predicted model is in fact a very accurate one with an estimated mean of 3.74 compared to the 3.75 mean of posterior. The predicted model also takes the exact shape. "
   ]
  }
 ],
 "metadata": {
  "kernelspec": {
   "display_name": "Python 3",
   "language": "python",
   "name": "python3"
  },
  "language_info": {
   "codemirror_mode": {
    "name": "ipython",
    "version": 3
   },
   "file_extension": ".py",
   "mimetype": "text/x-python",
   "name": "python",
   "nbconvert_exporter": "python",
   "pygments_lexer": "ipython3",
   "version": "3.6.4"
  }
 },
 "nbformat": 4,
 "nbformat_minor": 2
}
