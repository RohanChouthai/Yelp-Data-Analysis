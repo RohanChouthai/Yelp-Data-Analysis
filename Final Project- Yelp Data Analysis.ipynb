{
 "cells": [
  {
   "cell_type": "markdown",
   "metadata": {},
   "source": [
    "# Yelp Data Analysis"
   ]
  },
  {
   "cell_type": "markdown",
   "metadata": {},
   "source": [
    "### By- Chouthai, Rohan; Rajnalwar, Chandrakiran"
   ]
  },
  {
   "cell_type": "markdown",
   "metadata": {},
   "source": [
    "#### Loading the libraries"
   ]
  },
  {
   "cell_type": "raw",
   "metadata": {},
   "source": [
    "Let us first load all the libraries and set the pandas options. "
   ]
  },
  {
   "cell_type": "code",
   "execution_count": 42,
   "metadata": {},
   "outputs": [],
   "source": [
    "%matplotlib inline\n",
    "import numpy as np\n",
    "import pandas as pd\n",
    "import matplotlib.pyplot as plt\n",
    "import seaborn as sns\n",
    "sns.set(color_codes=True)\n",
    "from sklearn.model_selection import StratifiedKFold\n",
    "from sklearn.cross_validation import train_test_split\n",
    "from imblearn.over_sampling import SMOTE\n",
    "from sklearn.linear_model import LogisticRegression\n",
    "from sklearn.metrics import confusion_matrix,accuracy_score\n",
    "\n",
    "# Set some Pandas options\n",
    "pd.set_option('display.notebook_repr_html', True)\n",
    "pd.set_option('display.max_columns', 25)\n",
    "pd.set_option('display.max_rows', 25)"
   ]
  },
  {
   "cell_type": "raw",
   "metadata": {},
   "source": [
    "Let us first set the working directory so that we can import the files from it. "
   ]
  },
  {
   "cell_type": "code",
   "execution_count": 2,
   "metadata": {},
   "outputs": [],
   "source": [
    "import os\n",
    "\n",
    "os.chdir('C:\\\\Users\\\\rohan\\\\project')"
   ]
  },
  {
   "cell_type": "raw",
   "metadata": {},
   "source": [
    "Let us now load the datasets which we are going to use for analysis. We will be using the pandas to handle all the data. The source of this data is : https://www.kaggle.com/yelp-dataset/yelp-dataset"
   ]
  },
  {
   "cell_type": "markdown",
   "metadata": {},
   "source": [
    "#### Loading the data"
   ]
  },
  {
   "cell_type": "code",
   "execution_count": 3,
   "metadata": {},
   "outputs": [
    {
     "data": {
      "text/html": [
       "<div>\n",
       "<style scoped>\n",
       "    .dataframe tbody tr th:only-of-type {\n",
       "        vertical-align: middle;\n",
       "    }\n",
       "\n",
       "    .dataframe tbody tr th {\n",
       "        vertical-align: top;\n",
       "    }\n",
       "\n",
       "    .dataframe thead th {\n",
       "        text-align: right;\n",
       "    }\n",
       "</style>\n",
       "<table border=\"1\" class=\"dataframe\">\n",
       "  <thead>\n",
       "    <tr style=\"text-align: right;\">\n",
       "      <th></th>\n",
       "      <th>business_id</th>\n",
       "      <th>name</th>\n",
       "      <th>neighborhood</th>\n",
       "      <th>address</th>\n",
       "      <th>city</th>\n",
       "      <th>state</th>\n",
       "      <th>postal_code</th>\n",
       "      <th>latitude</th>\n",
       "      <th>longitude</th>\n",
       "      <th>stars</th>\n",
       "      <th>review_count</th>\n",
       "      <th>is_open</th>\n",
       "      <th>categories</th>\n",
       "    </tr>\n",
       "  </thead>\n",
       "  <tbody>\n",
       "    <tr>\n",
       "      <th>0</th>\n",
       "      <td>FYWN1wneV18bWNgQjJ2GNg</td>\n",
       "      <td>\"Dental by Design\"</td>\n",
       "      <td>NaN</td>\n",
       "      <td>\"4855 E Warner Rd, Ste B9\"</td>\n",
       "      <td>Ahwatukee</td>\n",
       "      <td>AZ</td>\n",
       "      <td>85044</td>\n",
       "      <td>33.330690</td>\n",
       "      <td>-111.978599</td>\n",
       "      <td>4.0</td>\n",
       "      <td>22</td>\n",
       "      <td>1</td>\n",
       "      <td>Dentists;General Dentistry;Health &amp; Medical;Or...</td>\n",
       "    </tr>\n",
       "    <tr>\n",
       "      <th>1</th>\n",
       "      <td>He-G7vWjzVUysIKrfNbPUQ</td>\n",
       "      <td>\"Stephen Szabo Salon\"</td>\n",
       "      <td>NaN</td>\n",
       "      <td>\"3101 Washington Rd\"</td>\n",
       "      <td>McMurray</td>\n",
       "      <td>PA</td>\n",
       "      <td>15317</td>\n",
       "      <td>40.291685</td>\n",
       "      <td>-80.104900</td>\n",
       "      <td>3.0</td>\n",
       "      <td>11</td>\n",
       "      <td>1</td>\n",
       "      <td>Hair Stylists;Hair Salons;Men's Hair Salons;Bl...</td>\n",
       "    </tr>\n",
       "    <tr>\n",
       "      <th>2</th>\n",
       "      <td>KQPW8lFf1y5BT2MxiSZ3QA</td>\n",
       "      <td>\"Western Motor Vehicle\"</td>\n",
       "      <td>NaN</td>\n",
       "      <td>\"6025 N 27th Ave, Ste 1\"</td>\n",
       "      <td>Phoenix</td>\n",
       "      <td>AZ</td>\n",
       "      <td>85017</td>\n",
       "      <td>33.524903</td>\n",
       "      <td>-112.115310</td>\n",
       "      <td>1.5</td>\n",
       "      <td>18</td>\n",
       "      <td>1</td>\n",
       "      <td>Departments of Motor Vehicles;Public Services ...</td>\n",
       "    </tr>\n",
       "    <tr>\n",
       "      <th>3</th>\n",
       "      <td>8DShNS-LuFqpEWIp0HxijA</td>\n",
       "      <td>\"Sports Authority\"</td>\n",
       "      <td>NaN</td>\n",
       "      <td>\"5000 Arizona Mills Cr, Ste 435\"</td>\n",
       "      <td>Tempe</td>\n",
       "      <td>AZ</td>\n",
       "      <td>85282</td>\n",
       "      <td>33.383147</td>\n",
       "      <td>-111.964725</td>\n",
       "      <td>3.0</td>\n",
       "      <td>9</td>\n",
       "      <td>0</td>\n",
       "      <td>Sporting Goods;Shopping</td>\n",
       "    </tr>\n",
       "    <tr>\n",
       "      <th>4</th>\n",
       "      <td>PfOCPjBrlQAnz__NXj9h_w</td>\n",
       "      <td>\"Brick House Tavern + Tap\"</td>\n",
       "      <td>NaN</td>\n",
       "      <td>\"581 Howe Ave\"</td>\n",
       "      <td>Cuyahoga Falls</td>\n",
       "      <td>OH</td>\n",
       "      <td>44221</td>\n",
       "      <td>41.119535</td>\n",
       "      <td>-81.475690</td>\n",
       "      <td>3.5</td>\n",
       "      <td>116</td>\n",
       "      <td>1</td>\n",
       "      <td>American (New);Nightlife;Bars;Sandwiches;Ameri...</td>\n",
       "    </tr>\n",
       "  </tbody>\n",
       "</table>\n",
       "</div>"
      ],
      "text/plain": [
       "              business_id                        name neighborhood  \\\n",
       "0  FYWN1wneV18bWNgQjJ2GNg          \"Dental by Design\"          NaN   \n",
       "1  He-G7vWjzVUysIKrfNbPUQ       \"Stephen Szabo Salon\"          NaN   \n",
       "2  KQPW8lFf1y5BT2MxiSZ3QA     \"Western Motor Vehicle\"          NaN   \n",
       "3  8DShNS-LuFqpEWIp0HxijA          \"Sports Authority\"          NaN   \n",
       "4  PfOCPjBrlQAnz__NXj9h_w  \"Brick House Tavern + Tap\"          NaN   \n",
       "\n",
       "                            address            city state postal_code  \\\n",
       "0        \"4855 E Warner Rd, Ste B9\"       Ahwatukee    AZ       85044   \n",
       "1              \"3101 Washington Rd\"        McMurray    PA       15317   \n",
       "2          \"6025 N 27th Ave, Ste 1\"         Phoenix    AZ       85017   \n",
       "3  \"5000 Arizona Mills Cr, Ste 435\"           Tempe    AZ       85282   \n",
       "4                    \"581 Howe Ave\"  Cuyahoga Falls    OH       44221   \n",
       "\n",
       "    latitude   longitude  stars  review_count  is_open  \\\n",
       "0  33.330690 -111.978599    4.0            22        1   \n",
       "1  40.291685  -80.104900    3.0            11        1   \n",
       "2  33.524903 -112.115310    1.5            18        1   \n",
       "3  33.383147 -111.964725    3.0             9        0   \n",
       "4  41.119535  -81.475690    3.5           116        1   \n",
       "\n",
       "                                          categories  \n",
       "0  Dentists;General Dentistry;Health & Medical;Or...  \n",
       "1  Hair Stylists;Hair Salons;Men's Hair Salons;Bl...  \n",
       "2  Departments of Motor Vehicles;Public Services ...  \n",
       "3                            Sporting Goods;Shopping  \n",
       "4  American (New);Nightlife;Bars;Sandwiches;Ameri...  "
      ]
     },
     "execution_count": 3,
     "metadata": {},
     "output_type": "execute_result"
    }
   ],
   "source": [
    "yelp_business=pd.read_csv('yelp_business.csv',sep=',')\n",
    "yelp_business.head()\n"
   ]
  },
  {
   "cell_type": "raw",
   "metadata": {},
   "source": [
    "This dataset comprises of all the restaurents and their information on Yelp. "
   ]
  },
  {
   "cell_type": "code",
   "execution_count": 4,
   "metadata": {
    "scrolled": true
   },
   "outputs": [
    {
     "data": {
      "text/html": [
       "<div>\n",
       "<style scoped>\n",
       "    .dataframe tbody tr th:only-of-type {\n",
       "        vertical-align: middle;\n",
       "    }\n",
       "\n",
       "    .dataframe tbody tr th {\n",
       "        vertical-align: top;\n",
       "    }\n",
       "\n",
       "    .dataframe thead th {\n",
       "        text-align: right;\n",
       "    }\n",
       "</style>\n",
       "<table border=\"1\" class=\"dataframe\">\n",
       "  <thead>\n",
       "    <tr style=\"text-align: right;\">\n",
       "      <th></th>\n",
       "      <th>business_id</th>\n",
       "      <th>AcceptsInsurance</th>\n",
       "      <th>ByAppointmentOnly</th>\n",
       "      <th>BusinessAcceptsCreditCards</th>\n",
       "      <th>BusinessParking_garage</th>\n",
       "      <th>BusinessParking_street</th>\n",
       "      <th>BusinessParking_validated</th>\n",
       "      <th>BusinessParking_lot</th>\n",
       "      <th>BusinessParking_valet</th>\n",
       "      <th>HairSpecializesIn_coloring</th>\n",
       "      <th>HairSpecializesIn_africanamerican</th>\n",
       "      <th>HairSpecializesIn_curly</th>\n",
       "      <th>...</th>\n",
       "      <th>BYOBCorkage</th>\n",
       "      <th>BYOB</th>\n",
       "      <th>Corkage</th>\n",
       "      <th>DietaryRestrictions_dairy-free</th>\n",
       "      <th>DietaryRestrictions_gluten-free</th>\n",
       "      <th>DietaryRestrictions_vegan</th>\n",
       "      <th>DietaryRestrictions_kosher</th>\n",
       "      <th>DietaryRestrictions_halal</th>\n",
       "      <th>DietaryRestrictions_soy-free</th>\n",
       "      <th>DietaryRestrictions_vegetarian</th>\n",
       "      <th>AgesAllowed</th>\n",
       "      <th>RestaurantsCounterService</th>\n",
       "    </tr>\n",
       "  </thead>\n",
       "  <tbody>\n",
       "    <tr>\n",
       "      <th>0</th>\n",
       "      <td>FYWN1wneV18bWNgQjJ2GNg</td>\n",
       "      <td>Na</td>\n",
       "      <td>Na</td>\n",
       "      <td>Na</td>\n",
       "      <td>True</td>\n",
       "      <td>Na</td>\n",
       "      <td>Na</td>\n",
       "      <td>Na</td>\n",
       "      <td>Na</td>\n",
       "      <td>Na</td>\n",
       "      <td>Na</td>\n",
       "      <td>Na</td>\n",
       "      <td>...</td>\n",
       "      <td>Na</td>\n",
       "      <td>Na</td>\n",
       "      <td>Na</td>\n",
       "      <td>Na</td>\n",
       "      <td>Na</td>\n",
       "      <td>Na</td>\n",
       "      <td>Na</td>\n",
       "      <td>Na</td>\n",
       "      <td>Na</td>\n",
       "      <td>Na</td>\n",
       "      <td>Na</td>\n",
       "      <td>Na</td>\n",
       "    </tr>\n",
       "    <tr>\n",
       "      <th>1</th>\n",
       "      <td>He-G7vWjzVUysIKrfNbPUQ</td>\n",
       "      <td>Na</td>\n",
       "      <td>Na</td>\n",
       "      <td>Na</td>\n",
       "      <td>Na</td>\n",
       "      <td>Na</td>\n",
       "      <td>Na</td>\n",
       "      <td>Na</td>\n",
       "      <td>Na</td>\n",
       "      <td>Na</td>\n",
       "      <td>Na</td>\n",
       "      <td>Na</td>\n",
       "      <td>...</td>\n",
       "      <td>Na</td>\n",
       "      <td>Na</td>\n",
       "      <td>Na</td>\n",
       "      <td>Na</td>\n",
       "      <td>Na</td>\n",
       "      <td>Na</td>\n",
       "      <td>Na</td>\n",
       "      <td>Na</td>\n",
       "      <td>Na</td>\n",
       "      <td>Na</td>\n",
       "      <td>Na</td>\n",
       "      <td>Na</td>\n",
       "    </tr>\n",
       "    <tr>\n",
       "      <th>2</th>\n",
       "      <td>8DShNS-LuFqpEWIp0HxijA</td>\n",
       "      <td>Na</td>\n",
       "      <td>Na</td>\n",
       "      <td>Na</td>\n",
       "      <td>Na</td>\n",
       "      <td>Na</td>\n",
       "      <td>Na</td>\n",
       "      <td>Na</td>\n",
       "      <td>Na</td>\n",
       "      <td>Na</td>\n",
       "      <td>Na</td>\n",
       "      <td>Na</td>\n",
       "      <td>...</td>\n",
       "      <td>Na</td>\n",
       "      <td>Na</td>\n",
       "      <td>Na</td>\n",
       "      <td>Na</td>\n",
       "      <td>Na</td>\n",
       "      <td>Na</td>\n",
       "      <td>Na</td>\n",
       "      <td>Na</td>\n",
       "      <td>Na</td>\n",
       "      <td>Na</td>\n",
       "      <td>Na</td>\n",
       "      <td>Na</td>\n",
       "    </tr>\n",
       "    <tr>\n",
       "      <th>3</th>\n",
       "      <td>PfOCPjBrlQAnz__NXj9h_w</td>\n",
       "      <td>Na</td>\n",
       "      <td>Na</td>\n",
       "      <td>Na</td>\n",
       "      <td>Na</td>\n",
       "      <td>Na</td>\n",
       "      <td>Na</td>\n",
       "      <td>Na</td>\n",
       "      <td>Na</td>\n",
       "      <td>Na</td>\n",
       "      <td>Na</td>\n",
       "      <td>Na</td>\n",
       "      <td>...</td>\n",
       "      <td>Na</td>\n",
       "      <td>Na</td>\n",
       "      <td>Na</td>\n",
       "      <td>Na</td>\n",
       "      <td>Na</td>\n",
       "      <td>Na</td>\n",
       "      <td>Na</td>\n",
       "      <td>Na</td>\n",
       "      <td>Na</td>\n",
       "      <td>Na</td>\n",
       "      <td>Na</td>\n",
       "      <td>Na</td>\n",
       "    </tr>\n",
       "    <tr>\n",
       "      <th>4</th>\n",
       "      <td>o9eMRCWt5PkpLDE0gOPtcQ</td>\n",
       "      <td>Na</td>\n",
       "      <td>Na</td>\n",
       "      <td>Na</td>\n",
       "      <td>Na</td>\n",
       "      <td>False</td>\n",
       "      <td>False</td>\n",
       "      <td>False</td>\n",
       "      <td>False</td>\n",
       "      <td>False</td>\n",
       "      <td>Na</td>\n",
       "      <td>Na</td>\n",
       "      <td>...</td>\n",
       "      <td>Na</td>\n",
       "      <td>Na</td>\n",
       "      <td>Na</td>\n",
       "      <td>Na</td>\n",
       "      <td>Na</td>\n",
       "      <td>Na</td>\n",
       "      <td>Na</td>\n",
       "      <td>Na</td>\n",
       "      <td>Na</td>\n",
       "      <td>Na</td>\n",
       "      <td>Na</td>\n",
       "      <td>Na</td>\n",
       "    </tr>\n",
       "  </tbody>\n",
       "</table>\n",
       "<p>5 rows × 82 columns</p>\n",
       "</div>"
      ],
      "text/plain": [
       "              business_id AcceptsInsurance ByAppointmentOnly  \\\n",
       "0  FYWN1wneV18bWNgQjJ2GNg               Na                Na   \n",
       "1  He-G7vWjzVUysIKrfNbPUQ               Na                Na   \n",
       "2  8DShNS-LuFqpEWIp0HxijA               Na                Na   \n",
       "3  PfOCPjBrlQAnz__NXj9h_w               Na                Na   \n",
       "4  o9eMRCWt5PkpLDE0gOPtcQ               Na                Na   \n",
       "\n",
       "  BusinessAcceptsCreditCards BusinessParking_garage BusinessParking_street  \\\n",
       "0                         Na                   True                     Na   \n",
       "1                         Na                     Na                     Na   \n",
       "2                         Na                     Na                     Na   \n",
       "3                         Na                     Na                     Na   \n",
       "4                         Na                     Na                  False   \n",
       "\n",
       "  BusinessParking_validated BusinessParking_lot BusinessParking_valet  \\\n",
       "0                        Na                  Na                    Na   \n",
       "1                        Na                  Na                    Na   \n",
       "2                        Na                  Na                    Na   \n",
       "3                        Na                  Na                    Na   \n",
       "4                     False               False                 False   \n",
       "\n",
       "  HairSpecializesIn_coloring HairSpecializesIn_africanamerican  \\\n",
       "0                         Na                                Na   \n",
       "1                         Na                                Na   \n",
       "2                         Na                                Na   \n",
       "3                         Na                                Na   \n",
       "4                      False                                Na   \n",
       "\n",
       "  HairSpecializesIn_curly            ...            BYOBCorkage BYOB Corkage  \\\n",
       "0                      Na            ...                     Na   Na      Na   \n",
       "1                      Na            ...                     Na   Na      Na   \n",
       "2                      Na            ...                     Na   Na      Na   \n",
       "3                      Na            ...                     Na   Na      Na   \n",
       "4                      Na            ...                     Na   Na      Na   \n",
       "\n",
       "  DietaryRestrictions_dairy-free DietaryRestrictions_gluten-free  \\\n",
       "0                             Na                              Na   \n",
       "1                             Na                              Na   \n",
       "2                             Na                              Na   \n",
       "3                             Na                              Na   \n",
       "4                             Na                              Na   \n",
       "\n",
       "  DietaryRestrictions_vegan DietaryRestrictions_kosher  \\\n",
       "0                        Na                         Na   \n",
       "1                        Na                         Na   \n",
       "2                        Na                         Na   \n",
       "3                        Na                         Na   \n",
       "4                        Na                         Na   \n",
       "\n",
       "  DietaryRestrictions_halal DietaryRestrictions_soy-free  \\\n",
       "0                        Na                           Na   \n",
       "1                        Na                           Na   \n",
       "2                        Na                           Na   \n",
       "3                        Na                           Na   \n",
       "4                        Na                           Na   \n",
       "\n",
       "  DietaryRestrictions_vegetarian AgesAllowed RestaurantsCounterService  \n",
       "0                             Na          Na                        Na  \n",
       "1                             Na          Na                        Na  \n",
       "2                             Na          Na                        Na  \n",
       "3                             Na          Na                        Na  \n",
       "4                             Na          Na                        Na  \n",
       "\n",
       "[5 rows x 82 columns]"
      ]
     },
     "execution_count": 4,
     "metadata": {},
     "output_type": "execute_result"
    }
   ],
   "source": [
    "yelp_business_attributes=pd.read_csv('yelp_business_attributes.csv',sep=',')\n",
    "yelp_business_attributes.head()"
   ]
  },
  {
   "cell_type": "raw",
   "metadata": {},
   "source": [
    "This dataset gives a complete overview of the business attributes of all the restaurents in the database. "
   ]
  },
  {
   "cell_type": "code",
   "execution_count": 5,
   "metadata": {
    "scrolled": true
   },
   "outputs": [
    {
     "data": {
      "text/html": [
       "<div>\n",
       "<style scoped>\n",
       "    .dataframe tbody tr th:only-of-type {\n",
       "        vertical-align: middle;\n",
       "    }\n",
       "\n",
       "    .dataframe tbody tr th {\n",
       "        vertical-align: top;\n",
       "    }\n",
       "\n",
       "    .dataframe thead th {\n",
       "        text-align: right;\n",
       "    }\n",
       "</style>\n",
       "<table border=\"1\" class=\"dataframe\">\n",
       "  <thead>\n",
       "    <tr style=\"text-align: right;\">\n",
       "      <th></th>\n",
       "      <th>user_id</th>\n",
       "      <th>name</th>\n",
       "      <th>review_count</th>\n",
       "      <th>yelping_since</th>\n",
       "      <th>friends</th>\n",
       "      <th>useful</th>\n",
       "      <th>funny</th>\n",
       "      <th>cool</th>\n",
       "      <th>fans</th>\n",
       "      <th>elite</th>\n",
       "      <th>average_stars</th>\n",
       "      <th>compliment_hot</th>\n",
       "      <th>compliment_more</th>\n",
       "      <th>compliment_profile</th>\n",
       "      <th>compliment_cute</th>\n",
       "      <th>compliment_list</th>\n",
       "      <th>compliment_note</th>\n",
       "      <th>compliment_plain</th>\n",
       "      <th>compliment_cool</th>\n",
       "      <th>compliment_funny</th>\n",
       "      <th>compliment_writer</th>\n",
       "      <th>compliment_photos</th>\n",
       "    </tr>\n",
       "  </thead>\n",
       "  <tbody>\n",
       "    <tr>\n",
       "      <th>0</th>\n",
       "      <td>JJ-aSuM4pCFPdkfoZ34q0Q</td>\n",
       "      <td>Chris</td>\n",
       "      <td>10</td>\n",
       "      <td>2013-09-24</td>\n",
       "      <td>0njfJmB-7n84DlIgUByCNw, rFn3Xe3RqHxRSxWOU19Gpg...</td>\n",
       "      <td>0</td>\n",
       "      <td>0</td>\n",
       "      <td>0</td>\n",
       "      <td>0</td>\n",
       "      <td>None</td>\n",
       "      <td>3.70</td>\n",
       "      <td>0</td>\n",
       "      <td>0</td>\n",
       "      <td>0</td>\n",
       "      <td>0</td>\n",
       "      <td>0</td>\n",
       "      <td>0</td>\n",
       "      <td>0</td>\n",
       "      <td>0</td>\n",
       "      <td>0</td>\n",
       "      <td>0</td>\n",
       "      <td>0</td>\n",
       "    </tr>\n",
       "    <tr>\n",
       "      <th>1</th>\n",
       "      <td>uUzsFQn_6cXDh6rPNGbIFA</td>\n",
       "      <td>Tiffy</td>\n",
       "      <td>1</td>\n",
       "      <td>2017-03-02</td>\n",
       "      <td>None</td>\n",
       "      <td>0</td>\n",
       "      <td>0</td>\n",
       "      <td>0</td>\n",
       "      <td>0</td>\n",
       "      <td>None</td>\n",
       "      <td>2.00</td>\n",
       "      <td>0</td>\n",
       "      <td>0</td>\n",
       "      <td>0</td>\n",
       "      <td>0</td>\n",
       "      <td>0</td>\n",
       "      <td>0</td>\n",
       "      <td>0</td>\n",
       "      <td>0</td>\n",
       "      <td>0</td>\n",
       "      <td>0</td>\n",
       "      <td>0</td>\n",
       "    </tr>\n",
       "    <tr>\n",
       "      <th>2</th>\n",
       "      <td>mBneaEEH5EMyxaVyqS-72A</td>\n",
       "      <td>Mark</td>\n",
       "      <td>6</td>\n",
       "      <td>2015-03-13</td>\n",
       "      <td>None</td>\n",
       "      <td>0</td>\n",
       "      <td>0</td>\n",
       "      <td>0</td>\n",
       "      <td>0</td>\n",
       "      <td>None</td>\n",
       "      <td>4.67</td>\n",
       "      <td>0</td>\n",
       "      <td>0</td>\n",
       "      <td>0</td>\n",
       "      <td>0</td>\n",
       "      <td>0</td>\n",
       "      <td>0</td>\n",
       "      <td>0</td>\n",
       "      <td>0</td>\n",
       "      <td>0</td>\n",
       "      <td>0</td>\n",
       "      <td>0</td>\n",
       "    </tr>\n",
       "    <tr>\n",
       "      <th>3</th>\n",
       "      <td>W5mJGs-dcDWRGEhAzUYtoA</td>\n",
       "      <td>Evelyn</td>\n",
       "      <td>3</td>\n",
       "      <td>2016-09-08</td>\n",
       "      <td>None</td>\n",
       "      <td>0</td>\n",
       "      <td>0</td>\n",
       "      <td>0</td>\n",
       "      <td>0</td>\n",
       "      <td>None</td>\n",
       "      <td>4.67</td>\n",
       "      <td>0</td>\n",
       "      <td>0</td>\n",
       "      <td>0</td>\n",
       "      <td>0</td>\n",
       "      <td>0</td>\n",
       "      <td>0</td>\n",
       "      <td>0</td>\n",
       "      <td>0</td>\n",
       "      <td>0</td>\n",
       "      <td>0</td>\n",
       "      <td>0</td>\n",
       "    </tr>\n",
       "    <tr>\n",
       "      <th>4</th>\n",
       "      <td>4E8--zUZO1Rr1IBK4_83fg</td>\n",
       "      <td>Lisa</td>\n",
       "      <td>11</td>\n",
       "      <td>2012-07-16</td>\n",
       "      <td>None</td>\n",
       "      <td>4</td>\n",
       "      <td>0</td>\n",
       "      <td>0</td>\n",
       "      <td>0</td>\n",
       "      <td>None</td>\n",
       "      <td>3.45</td>\n",
       "      <td>0</td>\n",
       "      <td>0</td>\n",
       "      <td>0</td>\n",
       "      <td>0</td>\n",
       "      <td>0</td>\n",
       "      <td>0</td>\n",
       "      <td>0</td>\n",
       "      <td>0</td>\n",
       "      <td>0</td>\n",
       "      <td>1</td>\n",
       "      <td>0</td>\n",
       "    </tr>\n",
       "  </tbody>\n",
       "</table>\n",
       "</div>"
      ],
      "text/plain": [
       "                  user_id    name  review_count yelping_since  \\\n",
       "0  JJ-aSuM4pCFPdkfoZ34q0Q   Chris            10    2013-09-24   \n",
       "1  uUzsFQn_6cXDh6rPNGbIFA   Tiffy             1    2017-03-02   \n",
       "2  mBneaEEH5EMyxaVyqS-72A    Mark             6    2015-03-13   \n",
       "3  W5mJGs-dcDWRGEhAzUYtoA  Evelyn             3    2016-09-08   \n",
       "4  4E8--zUZO1Rr1IBK4_83fg    Lisa            11    2012-07-16   \n",
       "\n",
       "                                             friends  useful  funny  cool  \\\n",
       "0  0njfJmB-7n84DlIgUByCNw, rFn3Xe3RqHxRSxWOU19Gpg...       0      0     0   \n",
       "1                                               None       0      0     0   \n",
       "2                                               None       0      0     0   \n",
       "3                                               None       0      0     0   \n",
       "4                                               None       4      0     0   \n",
       "\n",
       "   fans elite  average_stars  compliment_hot  compliment_more  \\\n",
       "0     0  None           3.70               0                0   \n",
       "1     0  None           2.00               0                0   \n",
       "2     0  None           4.67               0                0   \n",
       "3     0  None           4.67               0                0   \n",
       "4     0  None           3.45               0                0   \n",
       "\n",
       "   compliment_profile  compliment_cute  compliment_list  compliment_note  \\\n",
       "0                   0                0                0                0   \n",
       "1                   0                0                0                0   \n",
       "2                   0                0                0                0   \n",
       "3                   0                0                0                0   \n",
       "4                   0                0                0                0   \n",
       "\n",
       "   compliment_plain  compliment_cool  compliment_funny  compliment_writer  \\\n",
       "0                 0                0                 0                  0   \n",
       "1                 0                0                 0                  0   \n",
       "2                 0                0                 0                  0   \n",
       "3                 0                0                 0                  0   \n",
       "4                 0                0                 0                  1   \n",
       "\n",
       "   compliment_photos  \n",
       "0                  0  \n",
       "1                  0  \n",
       "2                  0  \n",
       "3                  0  \n",
       "4                  0  "
      ]
     },
     "execution_count": 5,
     "metadata": {},
     "output_type": "execute_result"
    }
   ],
   "source": [
    "yelp_user=pd.read_csv('yelp_user.csv',sep=',')\n",
    "yelp_user.head()"
   ]
  },
  {
   "cell_type": "code",
   "execution_count": 6,
   "metadata": {
    "scrolled": true
   },
   "outputs": [
    {
     "data": {
      "text/html": [
       "<div>\n",
       "<style scoped>\n",
       "    .dataframe tbody tr th:only-of-type {\n",
       "        vertical-align: middle;\n",
       "    }\n",
       "\n",
       "    .dataframe tbody tr th {\n",
       "        vertical-align: top;\n",
       "    }\n",
       "\n",
       "    .dataframe thead th {\n",
       "        text-align: right;\n",
       "    }\n",
       "</style>\n",
       "<table border=\"1\" class=\"dataframe\">\n",
       "  <thead>\n",
       "    <tr style=\"text-align: right;\">\n",
       "      <th></th>\n",
       "      <th>review_id</th>\n",
       "      <th>user_id</th>\n",
       "      <th>business_id</th>\n",
       "      <th>stars</th>\n",
       "      <th>date</th>\n",
       "      <th>text</th>\n",
       "      <th>useful</th>\n",
       "      <th>funny</th>\n",
       "      <th>cool</th>\n",
       "    </tr>\n",
       "  </thead>\n",
       "  <tbody>\n",
       "    <tr>\n",
       "      <th>0</th>\n",
       "      <td>vkVSCC7xljjrAI4UGfnKEQ</td>\n",
       "      <td>bv2nCi5Qv5vroFiqKGopiw</td>\n",
       "      <td>AEx2SYEUJmTxVVB18LlCwA</td>\n",
       "      <td>5</td>\n",
       "      <td>2016-05-28</td>\n",
       "      <td>Super simple place but amazing nonetheless. It...</td>\n",
       "      <td>0</td>\n",
       "      <td>0</td>\n",
       "      <td>0</td>\n",
       "    </tr>\n",
       "    <tr>\n",
       "      <th>1</th>\n",
       "      <td>n6QzIUObkYshz4dz2QRJTw</td>\n",
       "      <td>bv2nCi5Qv5vroFiqKGopiw</td>\n",
       "      <td>VR6GpWIda3SfvPC-lg9H3w</td>\n",
       "      <td>5</td>\n",
       "      <td>2016-05-28</td>\n",
       "      <td>Small unassuming place that changes their menu...</td>\n",
       "      <td>0</td>\n",
       "      <td>0</td>\n",
       "      <td>0</td>\n",
       "    </tr>\n",
       "    <tr>\n",
       "      <th>2</th>\n",
       "      <td>MV3CcKScW05u5LVfF6ok0g</td>\n",
       "      <td>bv2nCi5Qv5vroFiqKGopiw</td>\n",
       "      <td>CKC0-MOWMqoeWf6s-szl8g</td>\n",
       "      <td>5</td>\n",
       "      <td>2016-05-28</td>\n",
       "      <td>Lester's is located in a beautiful neighborhoo...</td>\n",
       "      <td>0</td>\n",
       "      <td>0</td>\n",
       "      <td>0</td>\n",
       "    </tr>\n",
       "    <tr>\n",
       "      <th>3</th>\n",
       "      <td>IXvOzsEMYtiJI0CARmj77Q</td>\n",
       "      <td>bv2nCi5Qv5vroFiqKGopiw</td>\n",
       "      <td>ACFtxLv8pGrrxMm6EgjreA</td>\n",
       "      <td>4</td>\n",
       "      <td>2016-05-28</td>\n",
       "      <td>Love coming here. Yes the place always needs t...</td>\n",
       "      <td>0</td>\n",
       "      <td>0</td>\n",
       "      <td>0</td>\n",
       "    </tr>\n",
       "    <tr>\n",
       "      <th>4</th>\n",
       "      <td>L_9BTb55X0GDtThi6GlZ6w</td>\n",
       "      <td>bv2nCi5Qv5vroFiqKGopiw</td>\n",
       "      <td>s2I_Ni76bjJNK9yG60iD-Q</td>\n",
       "      <td>4</td>\n",
       "      <td>2016-05-28</td>\n",
       "      <td>Had their chocolate almond croissant and it wa...</td>\n",
       "      <td>0</td>\n",
       "      <td>0</td>\n",
       "      <td>0</td>\n",
       "    </tr>\n",
       "  </tbody>\n",
       "</table>\n",
       "</div>"
      ],
      "text/plain": [
       "                review_id                 user_id             business_id  \\\n",
       "0  vkVSCC7xljjrAI4UGfnKEQ  bv2nCi5Qv5vroFiqKGopiw  AEx2SYEUJmTxVVB18LlCwA   \n",
       "1  n6QzIUObkYshz4dz2QRJTw  bv2nCi5Qv5vroFiqKGopiw  VR6GpWIda3SfvPC-lg9H3w   \n",
       "2  MV3CcKScW05u5LVfF6ok0g  bv2nCi5Qv5vroFiqKGopiw  CKC0-MOWMqoeWf6s-szl8g   \n",
       "3  IXvOzsEMYtiJI0CARmj77Q  bv2nCi5Qv5vroFiqKGopiw  ACFtxLv8pGrrxMm6EgjreA   \n",
       "4  L_9BTb55X0GDtThi6GlZ6w  bv2nCi5Qv5vroFiqKGopiw  s2I_Ni76bjJNK9yG60iD-Q   \n",
       "\n",
       "   stars        date                                               text  \\\n",
       "0      5  2016-05-28  Super simple place but amazing nonetheless. It...   \n",
       "1      5  2016-05-28  Small unassuming place that changes their menu...   \n",
       "2      5  2016-05-28  Lester's is located in a beautiful neighborhoo...   \n",
       "3      4  2016-05-28  Love coming here. Yes the place always needs t...   \n",
       "4      4  2016-05-28  Had their chocolate almond croissant and it wa...   \n",
       "\n",
       "   useful  funny  cool  \n",
       "0       0      0     0  \n",
       "1       0      0     0  \n",
       "2       0      0     0  \n",
       "3       0      0     0  \n",
       "4       0      0     0  "
      ]
     },
     "execution_count": 6,
     "metadata": {},
     "output_type": "execute_result"
    }
   ],
   "source": [
    "yelp_review=pd.read_csv('yelp_review.csv',sep=',')\n",
    "yelp_review.head()"
   ]
  },
  {
   "cell_type": "code",
   "execution_count": 7,
   "metadata": {},
   "outputs": [
    {
     "data": {
      "text/html": [
       "<div>\n",
       "<style scoped>\n",
       "    .dataframe tbody tr th:only-of-type {\n",
       "        vertical-align: middle;\n",
       "    }\n",
       "\n",
       "    .dataframe tbody tr th {\n",
       "        vertical-align: top;\n",
       "    }\n",
       "\n",
       "    .dataframe thead th {\n",
       "        text-align: right;\n",
       "    }\n",
       "</style>\n",
       "<table border=\"1\" class=\"dataframe\">\n",
       "  <thead>\n",
       "    <tr style=\"text-align: right;\">\n",
       "      <th></th>\n",
       "      <th>business_id</th>\n",
       "      <th>weekday</th>\n",
       "      <th>hour</th>\n",
       "      <th>checkins</th>\n",
       "    </tr>\n",
       "  </thead>\n",
       "  <tbody>\n",
       "    <tr>\n",
       "      <th>0</th>\n",
       "      <td>3Mc-LxcqeguOXOVT_2ZtCg</td>\n",
       "      <td>Tue</td>\n",
       "      <td>0:00</td>\n",
       "      <td>12</td>\n",
       "    </tr>\n",
       "    <tr>\n",
       "      <th>1</th>\n",
       "      <td>SVFx6_epO22bZTZnKwlX7g</td>\n",
       "      <td>Wed</td>\n",
       "      <td>0:00</td>\n",
       "      <td>4</td>\n",
       "    </tr>\n",
       "    <tr>\n",
       "      <th>2</th>\n",
       "      <td>vW9aLivd4-IorAfStzsHww</td>\n",
       "      <td>Tue</td>\n",
       "      <td>14:00</td>\n",
       "      <td>1</td>\n",
       "    </tr>\n",
       "    <tr>\n",
       "      <th>3</th>\n",
       "      <td>tEzxhauTQddACyqdJ0OPEQ</td>\n",
       "      <td>Fri</td>\n",
       "      <td>19:00</td>\n",
       "      <td>1</td>\n",
       "    </tr>\n",
       "    <tr>\n",
       "      <th>4</th>\n",
       "      <td>CEyZU32P-vtMhgqRCaXzMA</td>\n",
       "      <td>Tue</td>\n",
       "      <td>17:00</td>\n",
       "      <td>1</td>\n",
       "    </tr>\n",
       "  </tbody>\n",
       "</table>\n",
       "</div>"
      ],
      "text/plain": [
       "              business_id weekday   hour  checkins\n",
       "0  3Mc-LxcqeguOXOVT_2ZtCg     Tue   0:00        12\n",
       "1  SVFx6_epO22bZTZnKwlX7g     Wed   0:00         4\n",
       "2  vW9aLivd4-IorAfStzsHww     Tue  14:00         1\n",
       "3  tEzxhauTQddACyqdJ0OPEQ     Fri  19:00         1\n",
       "4  CEyZU32P-vtMhgqRCaXzMA     Tue  17:00         1"
      ]
     },
     "execution_count": 7,
     "metadata": {},
     "output_type": "execute_result"
    }
   ],
   "source": [
    "yelp_checkin=pd.read_csv('yelp_checkin.csv',sep=',')\n",
    "yelp_checkin.head()"
   ]
  },
  {
   "cell_type": "code",
   "execution_count": 91,
   "metadata": {},
   "outputs": [
    {
     "data": {
      "text/html": [
       "<div>\n",
       "<style scoped>\n",
       "    .dataframe tbody tr th:only-of-type {\n",
       "        vertical-align: middle;\n",
       "    }\n",
       "\n",
       "    .dataframe tbody tr th {\n",
       "        vertical-align: top;\n",
       "    }\n",
       "\n",
       "    .dataframe thead th {\n",
       "        text-align: right;\n",
       "    }\n",
       "</style>\n",
       "<table border=\"1\" class=\"dataframe\">\n",
       "  <thead>\n",
       "    <tr style=\"text-align: right;\">\n",
       "      <th></th>\n",
       "      <th>text</th>\n",
       "      <th>date</th>\n",
       "      <th>likes</th>\n",
       "      <th>business_id</th>\n",
       "      <th>user_id</th>\n",
       "    </tr>\n",
       "  </thead>\n",
       "  <tbody>\n",
       "    <tr>\n",
       "      <th>0</th>\n",
       "      <td>Great breakfast large portions and friendly wa...</td>\n",
       "      <td>2015-08-12</td>\n",
       "      <td>0</td>\n",
       "      <td>jH19V2I9fIslnNhDzPmdkA</td>\n",
       "      <td>ZcLKXikTHYOnYt5VYRO5sg</td>\n",
       "    </tr>\n",
       "    <tr>\n",
       "      <th>1</th>\n",
       "      <td>Nice place. Great staff.  A fixture in the tow...</td>\n",
       "      <td>2014-06-20</td>\n",
       "      <td>0</td>\n",
       "      <td>dAa0hB2yrnHzVmsCkN4YvQ</td>\n",
       "      <td>oaYhjqBbh18ZhU0bpyzSuw</td>\n",
       "    </tr>\n",
       "    <tr>\n",
       "      <th>2</th>\n",
       "      <td>Happy hour 5-7 Monday - Friday</td>\n",
       "      <td>2016-10-12</td>\n",
       "      <td>0</td>\n",
       "      <td>dAa0hB2yrnHzVmsCkN4YvQ</td>\n",
       "      <td>ulQ8Nyj7jCUR8M83SUMoRQ</td>\n",
       "    </tr>\n",
       "    <tr>\n",
       "      <th>3</th>\n",
       "      <td>Parking is a premium, keep circling, you will ...</td>\n",
       "      <td>2017-01-28</td>\n",
       "      <td>0</td>\n",
       "      <td>ESzO3Av0b1_TzKOiqzbQYQ</td>\n",
       "      <td>ulQ8Nyj7jCUR8M83SUMoRQ</td>\n",
       "    </tr>\n",
       "    <tr>\n",
       "      <th>4</th>\n",
       "      <td>Homemade pasta is the best in the area</td>\n",
       "      <td>2017-02-25</td>\n",
       "      <td>0</td>\n",
       "      <td>k7WRPbDd7rztjHcGGkEjlw</td>\n",
       "      <td>ulQ8Nyj7jCUR8M83SUMoRQ</td>\n",
       "    </tr>\n",
       "  </tbody>\n",
       "</table>\n",
       "</div>"
      ],
      "text/plain": [
       "                                                text        date  likes  \\\n",
       "0  Great breakfast large portions and friendly wa...  2015-08-12      0   \n",
       "1  Nice place. Great staff.  A fixture in the tow...  2014-06-20      0   \n",
       "2                     Happy hour 5-7 Monday - Friday  2016-10-12      0   \n",
       "3  Parking is a premium, keep circling, you will ...  2017-01-28      0   \n",
       "4             Homemade pasta is the best in the area  2017-02-25      0   \n",
       "\n",
       "              business_id                 user_id  \n",
       "0  jH19V2I9fIslnNhDzPmdkA  ZcLKXikTHYOnYt5VYRO5sg  \n",
       "1  dAa0hB2yrnHzVmsCkN4YvQ  oaYhjqBbh18ZhU0bpyzSuw  \n",
       "2  dAa0hB2yrnHzVmsCkN4YvQ  ulQ8Nyj7jCUR8M83SUMoRQ  \n",
       "3  ESzO3Av0b1_TzKOiqzbQYQ  ulQ8Nyj7jCUR8M83SUMoRQ  \n",
       "4  k7WRPbDd7rztjHcGGkEjlw  ulQ8Nyj7jCUR8M83SUMoRQ  "
      ]
     },
     "execution_count": 91,
     "metadata": {},
     "output_type": "execute_result"
    }
   ],
   "source": [
    "yelp_tip=pd.read_csv('yelp_tip.csv',sep=',')\n",
    "yelp_tip.head()"
   ]
  },
  {
   "cell_type": "markdown",
   "metadata": {},
   "source": [
    "## Yelp Businesses Analysis"
   ]
  },
  {
   "cell_type": "markdown",
   "metadata": {},
   "source": [
    "### Exploratory Data Analysis"
   ]
  },
  {
   "cell_type": "code",
   "execution_count": 43,
   "metadata": {},
   "outputs": [],
   "source": [
    "plt.style.use('fivethirtyeight')\n",
    "\n",
    "import warnings\n",
    "warnings.filterwarnings(\"ignore\")"
   ]
  },
  {
   "cell_type": "raw",
   "metadata": {},
   "source": [
    "First, let us look at the quality of data in the Yelp Business dataset. Let us explore if there are any null values. "
   ]
  },
  {
   "cell_type": "code",
   "execution_count": 44,
   "metadata": {},
   "outputs": [
    {
     "data": {
      "text/plain": [
       "business_id          0\n",
       "name                 0\n",
       "neighborhood    106552\n",
       "address              0\n",
       "city                 1\n",
       "state                1\n",
       "postal_code        623\n",
       "latitude             1\n",
       "longitude            1\n",
       "stars                0\n",
       "review_count         0\n",
       "is_open              0\n",
       "categories           0\n",
       "dtype: int64"
      ]
     },
     "execution_count": 44,
     "metadata": {},
     "output_type": "execute_result"
    }
   ],
   "source": [
    "yelp_business.isnull().sum()"
   ]
  },
  {
   "cell_type": "raw",
   "metadata": {},
   "source": [
    "We can see that there are a lot of nulls in the neighbourhood and postal_codes. Seems like the geographical data is missing. Let us visualize it a bit. "
   ]
  },
  {
   "cell_type": "code",
   "execution_count": 45,
   "metadata": {},
   "outputs": [
    {
     "data": {
      "image/png": "[encoded data removed]",
      "text/plain": [
       "<matplotlib.figure.Figure at 0x1b7012ea6a0>"
      ]
     },
     "metadata": {},
     "output_type": "display_data"
    }
   ],
   "source": [
    "plt.figure(figsize=(12,10))\n",
    "f = sns.heatmap(yelp_business.isnull(),yticklabels=False, cbar=False, cmap = 'viridis')"
   ]
  },
  {
   "cell_type": "raw",
   "metadata": {},
   "source": [
    "We can clearly see the missing values in the neighborhood column. That is fine since we do not intend to use the neighbourhood data anywhere in our analysis. Let us now explore the data further. "
   ]
  },
  {
   "cell_type": "markdown",
   "metadata": {},
   "source": [
    "#### Star Rating Distribution"
   ]
  },
  {
   "cell_type": "raw",
   "metadata": {},
   "source": [
    "Let us first visualize the different star ratings given in this database. "
   ]
  },
  {
   "cell_type": "code",
   "execution_count": 46,
   "metadata": {},
   "outputs": [
    {
     "data": {
      "text/plain": [
       "9"
      ]
     },
     "execution_count": 46,
     "metadata": {},
     "output_type": "execute_result"
    }
   ],
   "source": [
    "yelp_business['stars'].nunique()"
   ]
  },
  {
   "cell_type": "code",
   "execution_count": 47,
   "metadata": {},
   "outputs": [
    {
     "data": {
      "image/png": "[encoded data removed]",
      "text/plain": [
       "<matplotlib.figure.Figure at 0x1b6a309e048>"
      ]
     },
     "metadata": {},
     "output_type": "display_data"
    }
   ],
   "source": [
    "x=yelp_business['stars'].value_counts()\n",
    "x=x.sort_index()\n",
    "#plot\n",
    "plt.figure(figsize=(8,4))\n",
    "ax= sns.barplot(x.index, x.values, alpha=0.8)\n",
    "plt.title(\"Star Ratings Distribution\")\n",
    "plt.ylabel('No. of businesses', fontsize=12)\n",
    "plt.xlabel('Star Ratings ', fontsize=12)\n",
    "\n",
    "#adding the text labels\n",
    "rects = ax.patches\n",
    "labels = x.values\n",
    "for rect, label in zip(rects, labels):\n",
    "    height = rect.get_height()\n",
    "    ax.text(rect.get_x() + rect.get_width()/2, height + 5, label, ha='center', va='bottom')\n",
    "\n",
    "plt.show()"
   ]
  },
  {
   "cell_type": "markdown",
   "metadata": {},
   "source": [
    "#### City wide reviews"
   ]
  },
  {
   "cell_type": "raw",
   "metadata": {},
   "source": [
    "The dataset has restaurents from different cities across the world. Let us explore which cities have the most reviews. These would be the more famous cities. "
   ]
  },
  {
   "cell_type": "code",
   "execution_count": 8,
   "metadata": {},
   "outputs": [
    {
     "data": {
      "image/png": "[encoded data removed]",
      "text/plain": [
       "<matplotlib.figure.Figure at 0x1b82a452fd0>"
      ]
     },
     "metadata": {},
     "output_type": "display_data"
    }
   ],
   "source": [
    "color = sns.color_palette()\n",
    "x=yelp_business['city'].value_counts()\n",
    "x=x.sort_values(ascending=False)\n",
    "x=x.iloc[0:20]\n",
    "plt.figure(figsize=(16,4))\n",
    "ax = sns.barplot(x.index, x.values, alpha=0.8,color=color[4])\n",
    "plt.title(\"City wide reviews\")\n",
    "locs, labels = plt.xticks()\n",
    "plt.setp(labels, rotation=45)\n",
    "plt.ylabel('# businesses', fontsize=12)\n",
    "plt.xlabel('City', fontsize=12)\n",
    "\n",
    "\n",
    "rects = ax.patches\n",
    "labels = x.values\n",
    "for rect, label in zip(rects, labels):\n",
    "    height = rect.get_height()\n",
    "    ax.text(rect.get_x() + rect.get_width()/2, height + 5, label, ha='center', va='bottom')\n",
    "\n",
    "plt.show()\n"
   ]
  },
  {
   "cell_type": "raw",
   "metadata": {},
   "source": [
    "We can thus see that Las Vegas has the most number of businesses. This database has the most businesses in Las Vegas. Let us explore the businesses in Las Vegas even further. \n",
    "\n",
    "Source: https://www.kaggle.com/jagangupta/what-s-in-a-review-yelp-ratings-eda"
   ]
  },
  {
   "cell_type": "raw",
   "metadata": {},
   "source": [
    "Let us also visualize the tree map. The tree map gives us a non numeric glimpse into our data. "
   ]
  },
  {
   "cell_type": "code",
   "execution_count": 48,
   "metadata": {},
   "outputs": [],
   "source": [
    "B = yelp_business['stars']>=4\n",
    "yelp_stars = yelp_business[B]\n",
    "by_city = yelp_stars.groupby('city')\n",
    "\n",
    "\n"
   ]
  },
  {
   "cell_type": "code",
   "execution_count": 50,
   "metadata": {},
   "outputs": [
    {
     "data": {
      "image/png": "[encoded data removed]",
      "text/plain": [
       "<matplotlib.figure.Figure at 0x1b701577160>"
      ]
     },
     "metadata": {},
     "output_type": "display_data"
    }
   ],
   "source": [
    "import squarify\n",
    "plt.figure(figsize=(15,15))\n",
    "\n",
    "a = by_city['business_id'].count()\n",
    "a.sort_values(ascending=False,inplace=True)\n",
    "\n",
    "squarify.plot(sizes= a[0:15].values, label= a[0:15].index, alpha=0.9)\n",
    "\n",
    "plt.axis('off')\n",
    "plt.tight_layout()"
   ]
  },
  {
   "cell_type": "raw",
   "metadata": {},
   "source": [
    "Clearly, Las Vegas is huge. Both geographically as well as this dataset is concerned. Let us explore it even further. "
   ]
  },
  {
   "cell_type": "markdown",
   "metadata": {},
   "source": [
    "### What happens in Vegas, stays in Vegas !!"
   ]
  },
  {
   "cell_type": "raw",
   "metadata": {},
   "source": [
    "Let us first subset only the Las Vegas restaurents in a new dataframe. "
   ]
  },
  {
   "cell_type": "code",
   "execution_count": 9,
   "metadata": {},
   "outputs": [
    {
     "data": {
      "text/html": [
       "<div>\n",
       "<style scoped>\n",
       "    .dataframe tbody tr th:only-of-type {\n",
       "        vertical-align: middle;\n",
       "    }\n",
       "\n",
       "    .dataframe tbody tr th {\n",
       "        vertical-align: top;\n",
       "    }\n",
       "\n",
       "    .dataframe thead th {\n",
       "        text-align: right;\n",
       "    }\n",
       "</style>\n",
       "<table border=\"1\" class=\"dataframe\">\n",
       "  <thead>\n",
       "    <tr style=\"text-align: right;\">\n",
       "      <th></th>\n",
       "      <th>business_id</th>\n",
       "      <th>name</th>\n",
       "      <th>neighborhood</th>\n",
       "      <th>address</th>\n",
       "      <th>city</th>\n",
       "      <th>state</th>\n",
       "      <th>postal_code</th>\n",
       "      <th>latitude</th>\n",
       "      <th>longitude</th>\n",
       "      <th>stars</th>\n",
       "      <th>review_count</th>\n",
       "      <th>is_open</th>\n",
       "      <th>categories</th>\n",
       "    </tr>\n",
       "  </thead>\n",
       "  <tbody>\n",
       "    <tr>\n",
       "      <th>6</th>\n",
       "      <td>kCoE3jvEtg6UVz5SOD3GVw</td>\n",
       "      <td>\"BDJ Realty\"</td>\n",
       "      <td>Summerlin</td>\n",
       "      <td>\"2620 Regatta Dr, Ste 102\"</td>\n",
       "      <td>Las Vegas</td>\n",
       "      <td>NV</td>\n",
       "      <td>89128</td>\n",
       "      <td>36.207430</td>\n",
       "      <td>-115.268460</td>\n",
       "      <td>4.0</td>\n",
       "      <td>5</td>\n",
       "      <td>1</td>\n",
       "      <td>Real Estate Services;Real Estate;Home Services...</td>\n",
       "    </tr>\n",
       "    <tr>\n",
       "      <th>7</th>\n",
       "      <td>OD2hnuuTJI9uotcKycxg1A</td>\n",
       "      <td>\"Soccer Zone\"</td>\n",
       "      <td>NaN</td>\n",
       "      <td>\"7240 W Lake Mead Blvd, Ste 4\"</td>\n",
       "      <td>Las Vegas</td>\n",
       "      <td>NV</td>\n",
       "      <td>89128</td>\n",
       "      <td>36.197484</td>\n",
       "      <td>-115.249660</td>\n",
       "      <td>1.5</td>\n",
       "      <td>9</td>\n",
       "      <td>1</td>\n",
       "      <td>Shopping;Sporting Goods</td>\n",
       "    </tr>\n",
       "    <tr>\n",
       "      <th>26</th>\n",
       "      <td>VBHEsoXQb2AQ76J9l8h1uQ</td>\n",
       "      <td>\"Alfredo's Jewelry\"</td>\n",
       "      <td>Southeast</td>\n",
       "      <td>\"5775 S Eastern, Ste 103\"</td>\n",
       "      <td>Las Vegas</td>\n",
       "      <td>NV</td>\n",
       "      <td>89119</td>\n",
       "      <td>36.085051</td>\n",
       "      <td>-115.119421</td>\n",
       "      <td>4.5</td>\n",
       "      <td>23</td>\n",
       "      <td>1</td>\n",
       "      <td>Shopping;Jewelry;Watch Repair;Local Services</td>\n",
       "    </tr>\n",
       "    <tr>\n",
       "      <th>41</th>\n",
       "      <td>1Jp_hmPNUZArNqzpbm7B0g</td>\n",
       "      <td>\"Task Electric\"</td>\n",
       "      <td>Spring Valley</td>\n",
       "      <td>\"7260 Cimarron Rd, Ste 130\"</td>\n",
       "      <td>Las Vegas</td>\n",
       "      <td>NV</td>\n",
       "      <td>89113</td>\n",
       "      <td>36.056382</td>\n",
       "      <td>-115.269332</td>\n",
       "      <td>4.5</td>\n",
       "      <td>20</td>\n",
       "      <td>1</td>\n",
       "      <td>Home Services;Lighting Fixtures &amp; Equipment;Lo...</td>\n",
       "    </tr>\n",
       "    <tr>\n",
       "      <th>48</th>\n",
       "      <td>DPQnTnNw2PJj7DdENM98Cw</td>\n",
       "      <td>\"Star Nursery\"</td>\n",
       "      <td>NaN</td>\n",
       "      <td>\"5340 Boulder Hwy\"</td>\n",
       "      <td>Las Vegas</td>\n",
       "      <td>NV</td>\n",
       "      <td>89122</td>\n",
       "      <td>36.105196</td>\n",
       "      <td>-115.056880</td>\n",
       "      <td>3.5</td>\n",
       "      <td>25</td>\n",
       "      <td>1</td>\n",
       "      <td>Nurseries &amp; Gardening;Home &amp; Garden;Shopping</td>\n",
       "    </tr>\n",
       "  </tbody>\n",
       "</table>\n",
       "</div>"
      ],
      "text/plain": [
       "               business_id                 name   neighborhood  \\\n",
       "6   kCoE3jvEtg6UVz5SOD3GVw         \"BDJ Realty\"      Summerlin   \n",
       "7   OD2hnuuTJI9uotcKycxg1A        \"Soccer Zone\"            NaN   \n",
       "26  VBHEsoXQb2AQ76J9l8h1uQ  \"Alfredo's Jewelry\"      Southeast   \n",
       "41  1Jp_hmPNUZArNqzpbm7B0g      \"Task Electric\"  Spring Valley   \n",
       "48  DPQnTnNw2PJj7DdENM98Cw       \"Star Nursery\"            NaN   \n",
       "\n",
       "                           address       city state postal_code   latitude  \\\n",
       "6       \"2620 Regatta Dr, Ste 102\"  Las Vegas    NV       89128  36.207430   \n",
       "7   \"7240 W Lake Mead Blvd, Ste 4\"  Las Vegas    NV       89128  36.197484   \n",
       "26       \"5775 S Eastern, Ste 103\"  Las Vegas    NV       89119  36.085051   \n",
       "41     \"7260 Cimarron Rd, Ste 130\"  Las Vegas    NV       89113  36.056382   \n",
       "48              \"5340 Boulder Hwy\"  Las Vegas    NV       89122  36.105196   \n",
       "\n",
       "     longitude  stars  review_count  is_open  \\\n",
       "6  -115.268460    4.0             5        1   \n",
       "7  -115.249660    1.5             9        1   \n",
       "26 -115.119421    4.5            23        1   \n",
       "41 -115.269332    4.5            20        1   \n",
       "48 -115.056880    3.5            25        1   \n",
       "\n",
       "                                           categories  \n",
       "6   Real Estate Services;Real Estate;Home Services...  \n",
       "7                             Shopping;Sporting Goods  \n",
       "26       Shopping;Jewelry;Watch Repair;Local Services  \n",
       "41  Home Services;Lighting Fixtures & Equipment;Lo...  \n",
       "48       Nurseries & Gardening;Home & Garden;Shopping  "
      ]
     },
     "execution_count": 9,
     "metadata": {},
     "output_type": "execute_result"
    }
   ],
   "source": [
    "LasVegas_restaurents=yelp_business.loc[(yelp_business['city'] =='Las Vegas')]\n",
    "LasVegas_restaurents.head()"
   ]
  },
  {
   "cell_type": "code",
   "execution_count": 10,
   "metadata": {},
   "outputs": [
    {
     "data": {
      "text/plain": [
       "(26775, 13)"
      ]
     },
     "execution_count": 10,
     "metadata": {},
     "output_type": "execute_result"
    }
   ],
   "source": [
    "LasVegas_restaurents.shape"
   ]
  },
  {
   "cell_type": "markdown",
   "metadata": {},
   "source": [
    "#### Quality of Las Vegas businesses"
   ]
  },
  {
   "cell_type": "raw",
   "metadata": {},
   "source": [
    "We saw that Las Vegas has most number of businesses in this database. Let us now explore what is the quality of theese businesses based on the stars they got by the yelp users. \n",
    "\n",
    "First we will get the counts of these ratings and then plot them. We will also then add the labels to the graph to get an idea of what the ratings stand for. "
   ]
  },
  {
   "cell_type": "code",
   "execution_count": 11,
   "metadata": {},
   "outputs": [
    {
     "data": {
      "image/png": "[encoded data removed]",
      "text/plain": [
       "<matplotlib.figure.Figure at 0x1b702eaccf8>"
      ]
     },
     "metadata": {},
     "output_type": "display_data"
    }
   ],
   "source": [
    "#Get the distribution of the ratings\n",
    "x=LasVegas_restaurents['stars'].value_counts()\n",
    "x=x.sort_index()\n",
    "#plot\n",
    "plt.figure(figsize=(8,4))\n",
    "ax= sns.barplot(x.index, x.values, alpha=0.8)\n",
    "plt.title(\"Star Rating Distribution\")\n",
    "plt.ylabel('# of businesses', fontsize=12)\n",
    "plt.xlabel('Star Ratings ', fontsize=12)\n",
    "\n",
    "#adding the text labels\n",
    "rects = ax.patches\n",
    "labels = x.values\n",
    "for rect, label in zip(rects, labels):\n",
    "    height = rect.get_height()\n",
    "    ax.text(rect.get_x() + rect.get_width()/2, height + 5, label, ha='center', va='bottom')\n",
    "\n",
    "plt.show()"
   ]
  },
  {
   "cell_type": "raw",
   "metadata": {},
   "source": [
    "Looks like there are a lot of 5 star restaurents in Las Vegas. Indeed, you'd expext that with all the tourism out there!"
   ]
  },
  {
   "cell_type": "markdown",
   "metadata": {},
   "source": [
    "#### Top categories of Las Vegas businesses"
   ]
  },
  {
   "cell_type": "raw",
   "metadata": {},
   "source": [
    "The categories are nested lists in the database. So, first we unnested those and then counted the number of businesses in each category. Then, we plot the graph and add labels to it. "
   ]
  },
  {
   "cell_type": "code",
   "execution_count": 13,
   "metadata": {
    "scrolled": true
   },
   "outputs": [
    {
     "name": "stdout",
     "output_type": "stream",
     "text": [
      "There are  17151  different types/categories of Businesses in Las Vegas in Yelp!\n"
     ]
    },
    {
     "data": {
      "image/png": "[encoded data removed]",
      "text/plain": [
       "<matplotlib.figure.Figure at 0x1b6a3b1c2e8>"
      ]
     },
     "metadata": {},
     "output_type": "display_data"
    }
   ],
   "source": [
    "business_cats=' '.join(LasVegas_restaurents['categories'])\n",
    "\n",
    "cats=pd.DataFrame(business_cats.split(';'),columns=['category'])\n",
    "x=cats.category.value_counts()\n",
    "print(\"There are \",len(x),\" different types/categories of Businesses in Las Vegas in Yelp!\")\n",
    "#prep for chart\n",
    "x=x.sort_values(ascending=False)\n",
    "x=x.iloc[0:20]\n",
    "\n",
    "#chart\n",
    "plt.figure(figsize=(16,4))\n",
    "ax = sns.barplot(x.index, x.values, alpha=0.8)#,color=color[2])\n",
    "plt.title(\"Top categories of Las Vegas businesses\",fontsize=25)\n",
    "locs, labels = plt.xticks()\n",
    "plt.setp(labels, rotation=80)\n",
    "plt.ylabel('# businesses', fontsize=12)\n",
    "plt.xlabel('Category', fontsize=12)\n",
    "\n",
    "#adding the text labels\n",
    "rects = ax.patches\n",
    "labels = x.values\n",
    "for rect, label in zip(rects, labels):\n",
    "    height = rect.get_height()\n",
    "    ax.text(rect.get_x() + rect.get_width()/2, height + 5, label, ha='center', va='bottom')\n",
    "\n",
    "plt.show()"
   ]
  },
  {
   "cell_type": "raw",
   "metadata": {},
   "source": [
    "We can see that Shopping business is the most popular in Las Vegas followed by restaurents. "
   ]
  },
  {
   "cell_type": "markdown",
   "metadata": {},
   "source": [
    "## Check-in Analysis"
   ]
  },
  {
   "cell_type": "raw",
   "metadata": {},
   "source": [
    "Check-ins have become an integral part of the social networking experience. We have a check-in data of yelp users for all the days through the week and for all the hours of the day. In this section, we will explore how the number of check-ins vary throughout the day and the week. We will also build a Kernel Density Estimator to smoothen the curve of check-ins through the week. Let's get started! "
   ]
  },
  {
   "cell_type": "code",
   "execution_count": 14,
   "metadata": {},
   "outputs": [
    {
     "data": {
      "text/html": [
       "<div>\n",
       "<style scoped>\n",
       "    .dataframe tbody tr th:only-of-type {\n",
       "        vertical-align: middle;\n",
       "    }\n",
       "\n",
       "    .dataframe tbody tr th {\n",
       "        vertical-align: top;\n",
       "    }\n",
       "\n",
       "    .dataframe thead th {\n",
       "        text-align: right;\n",
       "    }\n",
       "</style>\n",
       "<table border=\"1\" class=\"dataframe\">\n",
       "  <thead>\n",
       "    <tr style=\"text-align: right;\">\n",
       "      <th></th>\n",
       "      <th>business_id</th>\n",
       "      <th>weekday</th>\n",
       "      <th>hour</th>\n",
       "      <th>checkins</th>\n",
       "    </tr>\n",
       "  </thead>\n",
       "  <tbody>\n",
       "    <tr>\n",
       "      <th>0</th>\n",
       "      <td>3Mc-LxcqeguOXOVT_2ZtCg</td>\n",
       "      <td>Tue</td>\n",
       "      <td>0:00</td>\n",
       "      <td>12</td>\n",
       "    </tr>\n",
       "    <tr>\n",
       "      <th>1</th>\n",
       "      <td>SVFx6_epO22bZTZnKwlX7g</td>\n",
       "      <td>Wed</td>\n",
       "      <td>0:00</td>\n",
       "      <td>4</td>\n",
       "    </tr>\n",
       "    <tr>\n",
       "      <th>2</th>\n",
       "      <td>vW9aLivd4-IorAfStzsHww</td>\n",
       "      <td>Tue</td>\n",
       "      <td>14:00</td>\n",
       "      <td>1</td>\n",
       "    </tr>\n",
       "    <tr>\n",
       "      <th>3</th>\n",
       "      <td>tEzxhauTQddACyqdJ0OPEQ</td>\n",
       "      <td>Fri</td>\n",
       "      <td>19:00</td>\n",
       "      <td>1</td>\n",
       "    </tr>\n",
       "    <tr>\n",
       "      <th>4</th>\n",
       "      <td>CEyZU32P-vtMhgqRCaXzMA</td>\n",
       "      <td>Tue</td>\n",
       "      <td>17:00</td>\n",
       "      <td>1</td>\n",
       "    </tr>\n",
       "  </tbody>\n",
       "</table>\n",
       "</div>"
      ],
      "text/plain": [
       "              business_id weekday   hour  checkins\n",
       "0  3Mc-LxcqeguOXOVT_2ZtCg     Tue   0:00        12\n",
       "1  SVFx6_epO22bZTZnKwlX7g     Wed   0:00         4\n",
       "2  vW9aLivd4-IorAfStzsHww     Tue  14:00         1\n",
       "3  tEzxhauTQddACyqdJ0OPEQ     Fri  19:00         1\n",
       "4  CEyZU32P-vtMhgqRCaXzMA     Tue  17:00         1"
      ]
     },
     "execution_count": 14,
     "metadata": {},
     "output_type": "execute_result"
    }
   ],
   "source": [
    "yelp_checkin.head()"
   ]
  },
  {
   "cell_type": "raw",
   "metadata": {},
   "source": [
    "We see that the checkins are recorded per the business_id. We want to get the counts of checkins throughout the week and group them by the day and even the hour. Let us pivot the data to achieve that. "
   ]
  },
  {
   "cell_type": "code",
   "execution_count": 17,
   "metadata": {},
   "outputs": [
    {
     "data": {
      "text/html": [
       "<div>\n",
       "<style scoped>\n",
       "    .dataframe tbody tr th:only-of-type {\n",
       "        vertical-align: middle;\n",
       "    }\n",
       "\n",
       "    .dataframe tbody tr th {\n",
       "        vertical-align: top;\n",
       "    }\n",
       "\n",
       "    .dataframe thead th {\n",
       "        text-align: right;\n",
       "    }\n",
       "</style>\n",
       "<table border=\"1\" class=\"dataframe\">\n",
       "  <thead>\n",
       "    <tr style=\"text-align: right;\">\n",
       "      <th>weekday</th>\n",
       "      <th>hour</th>\n",
       "      <th>Fri</th>\n",
       "      <th>Mon</th>\n",
       "      <th>Sat</th>\n",
       "      <th>Sun</th>\n",
       "      <th>Thu</th>\n",
       "      <th>Tue</th>\n",
       "      <th>Wed</th>\n",
       "    </tr>\n",
       "  </thead>\n",
       "  <tbody>\n",
       "    <tr>\n",
       "      <th>0</th>\n",
       "      <td>0:00</td>\n",
       "      <td>178666</td>\n",
       "      <td>163336</td>\n",
       "      <td>224425</td>\n",
       "      <td>225209</td>\n",
       "      <td>171669</td>\n",
       "      <td>156195</td>\n",
       "      <td>166254</td>\n",
       "    </tr>\n",
       "    <tr>\n",
       "      <th>1</th>\n",
       "      <td>10:00</td>\n",
       "      <td>11837</td>\n",
       "      <td>10432</td>\n",
       "      <td>16753</td>\n",
       "      <td>15903</td>\n",
       "      <td>9776</td>\n",
       "      <td>9448</td>\n",
       "      <td>9200</td>\n",
       "    </tr>\n",
       "    <tr>\n",
       "      <th>2</th>\n",
       "      <td>11:00</td>\n",
       "      <td>15617</td>\n",
       "      <td>14580</td>\n",
       "      <td>15833</td>\n",
       "      <td>13724</td>\n",
       "      <td>14791</td>\n",
       "      <td>14397</td>\n",
       "      <td>14568</td>\n",
       "    </tr>\n",
       "    <tr>\n",
       "      <th>3</th>\n",
       "      <td>12:00</td>\n",
       "      <td>26149</td>\n",
       "      <td>23655</td>\n",
       "      <td>21330</td>\n",
       "      <td>16856</td>\n",
       "      <td>24631</td>\n",
       "      <td>24994</td>\n",
       "      <td>24828</td>\n",
       "    </tr>\n",
       "    <tr>\n",
       "      <th>4</th>\n",
       "      <td>13:00</td>\n",
       "      <td>37355</td>\n",
       "      <td>33640</td>\n",
       "      <td>36613</td>\n",
       "      <td>28085</td>\n",
       "      <td>34514</td>\n",
       "      <td>35002</td>\n",
       "      <td>34519</td>\n",
       "    </tr>\n",
       "  </tbody>\n",
       "</table>\n",
       "</div>"
      ],
      "text/plain": [
       "weekday   hour     Fri     Mon     Sat     Sun     Thu     Tue     Wed\n",
       "0         0:00  178666  163336  224425  225209  171669  156195  166254\n",
       "1        10:00   11837   10432   16753   15903    9776    9448    9200\n",
       "2        11:00   15617   14580   15833   13724   14791   14397   14568\n",
       "3        12:00   26149   23655   21330   16856   24631   24994   24828\n",
       "4        13:00   37355   33640   36613   28085   34514   35002   34519"
      ]
     },
     "execution_count": 17,
     "metadata": {},
     "output_type": "execute_result"
    }
   ],
   "source": [
    "#checkins exploration\n",
    "df=yelp_checkin.groupby(['weekday','hour'])['checkins'].sum()\n",
    "df=df.reset_index()\n",
    "df=df.pivot(index='hour',columns='weekday')[['checkins']]\n",
    "df.columns = df.columns.droplevel()\n",
    "df=df.reset_index()\n",
    "df.head()\n"
   ]
  },
  {
   "cell_type": "raw",
   "metadata": {},
   "source": [
    "We see that we still have not been able to sort the values by hour. Let us do that."
   ]
  },
  {
   "cell_type": "code",
   "execution_count": 19,
   "metadata": {},
   "outputs": [
    {
     "data": {
      "text/html": [
       "<div>\n",
       "<style scoped>\n",
       "    .dataframe tbody tr th:only-of-type {\n",
       "        vertical-align: middle;\n",
       "    }\n",
       "\n",
       "    .dataframe tbody tr th {\n",
       "        vertical-align: top;\n",
       "    }\n",
       "\n",
       "    .dataframe thead th {\n",
       "        text-align: right;\n",
       "    }\n",
       "</style>\n",
       "<table border=\"1\" class=\"dataframe\">\n",
       "  <thead>\n",
       "    <tr style=\"text-align: right;\">\n",
       "      <th>weekday</th>\n",
       "      <th>hour</th>\n",
       "      <th>Mon</th>\n",
       "      <th>Tue</th>\n",
       "      <th>Wed</th>\n",
       "      <th>Thu</th>\n",
       "      <th>Fri</th>\n",
       "      <th>Sat</th>\n",
       "      <th>Sun</th>\n",
       "    </tr>\n",
       "  </thead>\n",
       "  <tbody>\n",
       "    <tr>\n",
       "      <th>0</th>\n",
       "      <td>0</td>\n",
       "      <td>163336</td>\n",
       "      <td>156195</td>\n",
       "      <td>166254</td>\n",
       "      <td>171669</td>\n",
       "      <td>178666</td>\n",
       "      <td>224425</td>\n",
       "      <td>225209</td>\n",
       "    </tr>\n",
       "    <tr>\n",
       "      <th>11</th>\n",
       "      <td>1</td>\n",
       "      <td>161168</td>\n",
       "      <td>162632</td>\n",
       "      <td>174696</td>\n",
       "      <td>181712</td>\n",
       "      <td>190371</td>\n",
       "      <td>245453</td>\n",
       "      <td>235295</td>\n",
       "    </tr>\n",
       "    <tr>\n",
       "      <th>16</th>\n",
       "      <td>2</td>\n",
       "      <td>140252</td>\n",
       "      <td>141732</td>\n",
       "      <td>153923</td>\n",
       "      <td>160906</td>\n",
       "      <td>169989</td>\n",
       "      <td>236195</td>\n",
       "      <td>224716</td>\n",
       "    </tr>\n",
       "    <tr>\n",
       "      <th>17</th>\n",
       "      <td>3</td>\n",
       "      <td>106422</td>\n",
       "      <td>103584</td>\n",
       "      <td>111840</td>\n",
       "      <td>117639</td>\n",
       "      <td>127783</td>\n",
       "      <td>189242</td>\n",
       "      <td>184979</td>\n",
       "    </tr>\n",
       "    <tr>\n",
       "      <th>18</th>\n",
       "      <td>4</td>\n",
       "      <td>73497</td>\n",
       "      <td>68950</td>\n",
       "      <td>72821</td>\n",
       "      <td>76283</td>\n",
       "      <td>86825</td>\n",
       "      <td>138952</td>\n",
       "      <td>140092</td>\n",
       "    </tr>\n",
       "  </tbody>\n",
       "</table>\n",
       "</div>"
      ],
      "text/plain": [
       "weekday  hour     Mon     Tue     Wed     Thu     Fri     Sat     Sun\n",
       "0           0  163336  156195  166254  171669  178666  224425  225209\n",
       "11          1  161168  162632  174696  181712  190371  245453  235295\n",
       "16          2  140252  141732  153923  160906  169989  236195  224716\n",
       "17          3  106422  103584  111840  117639  127783  189242  184979\n",
       "18          4   73497   68950   72821   76283   86825  138952  140092"
      ]
     },
     "execution_count": 19,
     "metadata": {},
     "output_type": "execute_result"
    }
   ],
   "source": [
    "# Workaround for not being able to sort the values by hour\n",
    "df.hour=df.hour.apply(lambda x: str(x).split(':')[0])\n",
    "df.hour=df.hour.astype(int)\n",
    "# Sort the hour column \n",
    "df=df.sort_values('hour')\n",
    "df=df[['hour','Mon', 'Tue','Wed','Thu','Fri','Sat', 'Sun' ]]\n",
    "# df=df.set_index('hour')\n",
    "cm = sns.light_palette(\"orange\", as_cmap=True)\n",
    "df.head()"
   ]
  },
  {
   "cell_type": "raw",
   "metadata": {},
   "source": [
    "Thus we now have the dataframe ready and grouped by day and hour both.  Let us now explore the number of checkins now. "
   ]
  },
  {
   "cell_type": "markdown",
   "metadata": {},
   "source": [
    "### Checkin variations through the day"
   ]
  },
  {
   "cell_type": "code",
   "execution_count": 20,
   "metadata": {},
   "outputs": [
    {
     "data": {
      "image/png": "[encoded data removed]",
      "text/plain": [
       "<matplotlib.figure.Figure at 0x1b6a1f05c50>"
      ]
     },
     "metadata": {},
     "output_type": "display_data"
    }
   ],
   "source": [
    "import matplotlib.gridspec as gridspec \n",
    "import matplotlib.gridspec as gridspec \n",
    "\n",
    "plt.style.use('seaborn-darkgrid')\n",
    "# create a color palette\n",
    "palette = plt.get_cmap('Set1')\n",
    "plt.figure(figsize=(10,10))\n",
    "plt.suptitle(\"Checkins variation across time of the day\",fontsize=20)\n",
    "gridspec.GridSpec(3,3)\n",
    "plt.subplots_adjust(hspace=0.4)\n",
    "\n",
    "# multiple line plot\n",
    "num=0\n",
    "for column in df.drop('hour', axis=1):\n",
    "    num+=1\n",
    "    # Find the right spot on the plot\n",
    "    \n",
    "    if num==7:  # adjustment to fit sunday\n",
    "        plt.subplot2grid((3,3),(2,0),colspan=3)\n",
    "    else:\n",
    "        plt.subplot(3,3, num)\n",
    "    \n",
    "    # plot every groups, but discreet\n",
    "    for v in df.drop('hour', axis=1):\n",
    "        plt.plot(df['hour'], df[v], marker='', color='grey', linewidth=0.6, alpha=0.3)\n",
    "    # Plot the lineplot\n",
    "    plt.plot(df['hour'], df[column], marker='', color=palette(num), linewidth=2.4, alpha=0.9, label=column)\n",
    "    # Same limits for everybody!\n",
    "    plt.xlim(0,24)\n",
    "    plt.ylim(-2,260000)\n",
    "    # Not ticks everywhere\n",
    "    if num in range(4) :\n",
    "        plt.tick_params(labelbottom='off')\n",
    "    if num not in [1,4,7] :\n",
    "        plt.tick_params(labelleft='off')\n",
    "    # Add title\n",
    "    plt.title(column, loc='left', fontsize=12, fontweight=0, color=palette(num))"
   ]
  },
  {
   "cell_type": "raw",
   "metadata": {},
   "source": [
    "Thus we can see that most of the checkins happen in the evenings and on Saturday. \n",
    "source: https://www.kaggle.com/jagangupta/what-s-in-a-review-yelp-ratings-eda"
   ]
  },
  {
   "cell_type": "markdown",
   "metadata": {},
   "source": [
    "#### Checkins through the week"
   ]
  },
  {
   "cell_type": "raw",
   "metadata": {},
   "source": [
    "Let us only consider the days. We want to explore how the number of checkins vary through the week. So, we will first subset all the day wise checkins into a new dataframe. "
   ]
  },
  {
   "cell_type": "code",
   "execution_count": 21,
   "metadata": {},
   "outputs": [],
   "source": [
    "Checkin_analysis=df[['Mon','Tue','Wed','Thu','Fri','Sat','Sun']]"
   ]
  },
  {
   "cell_type": "raw",
   "metadata": {},
   "source": [
    "Let us now plot our total checkin counts data. I will take a column wise sum of checkins since I want to explore the checkins through the week. "
   ]
  },
  {
   "cell_type": "code",
   "execution_count": 22,
   "metadata": {},
   "outputs": [
    {
     "name": "stdout",
     "output_type": "stream",
     "text": [
      "7 1925357 3291582\n"
     ]
    },
    {
     "data": {
      "text/plain": [
       "[<matplotlib.lines.Line2D at 0x1b70020ddd8>]"
      ]
     },
     "execution_count": 22,
     "metadata": {},
     "output_type": "execute_result"
    },
    {
     "data": {
      "image/png": "[encoded data removed]",
      "text/plain": [
       "<matplotlib.figure.Figure at 0x1b6a1eff908>"
      ]
     },
     "metadata": {},
     "output_type": "display_data"
    }
   ],
   "source": [
    "total_checkins = np.sum(Checkin_analysis, axis=0)  \n",
    "                                       \n",
    "print(len(total_checkins), min(total_checkins), max(total_checkins))\n",
    "plt.figure(figsize=(10,10))\n",
    "plt.plot(total_checkins)"
   ]
  },
  {
   "cell_type": "raw",
   "metadata": {},
   "source": [
    "We can clearly see the upward trend through the week. The checkins fall from Monday to Tuesday but gradually increase from Tuesday to Wednesday. The rate in increase from Wednesday to Thursday and Thursday to Friday is more. But they truly shoot up from Friday to Saturday when they are the highest. People like to go out the most on Saturdays and this explains the spike. The checkin number again falls a bit on Sunday when the weekend ends. "
   ]
  },
  {
   "cell_type": "markdown",
   "metadata": {},
   "source": [
    "### Kernel Density Estimator for the checkins"
   ]
  },
  {
   "cell_type": "raw",
   "metadata": {},
   "source": [
    "KDE is basically a smoothening process of the curve. We saw the spikes in the plot of the total checkins. We will now build a Kernel Density Estimator which will essentially generate points similar to the distribution of checkins in the above graph. What it will do is, instead of assigning equal weights to all the points in the bins of the pdf of the checkins, KDE will essentially assign more weight to the central points in each bin thereby smoothing the curve. Thus, the histogram will not be subdivided into bins anymore. Instead, it will be continuous. Let us see how. "
   ]
  },
  {
   "cell_type": "code",
   "execution_count": 23,
   "metadata": {},
   "outputs": [
    {
     "data": {
      "image/png": "[encoded data removed]",
      "text/plain": [
       "<matplotlib.figure.Figure at 0x1b6a1eff3c8>"
      ]
     },
     "metadata": {},
     "output_type": "display_data"
    },
    {
     "name": "stdout",
     "output_type": "stream",
     "text": [
      "Count statistics:\n",
      "  min:  1925357\n",
      "  mean: 2378336.8571428573\n",
      "  max:  3291582\n"
     ]
    }
   ],
   "source": [
    "from scipy import stats\n",
    "\n",
    "# Use Gaussian smoothing to estimate the density\n",
    "density = stats.kde.gaussian_kde(total_checkins)\n",
    "\n",
    "# Make an x-axis for which to estimate the density, for plotting\n",
    "x = np.arange(min(total_checkins), max(total_checkins), 10000)\n",
    "\n",
    "# Draw the density plot\n",
    "fig, ax = plt.subplots(figsize=(10, 10))\n",
    "ax.plot(x, density(x))\n",
    "ax.set_xlabel(\"Number\")\n",
    "ax.set_ylabel(\"Day\")\n",
    "\n",
    "plt.show()\n",
    "\n",
    "print(f'Count statistics:\\n  min:  {np.min(total_checkins)}'\n",
    "      f'\\n  mean: {np.mean(total_checkins)}'\n",
    "      f'\\n  max:  {np.max(total_checkins)}')"
   ]
  },
  {
   "cell_type": "raw",
   "metadata": {},
   "source": [
    "Here day 7 would be Monday and so on. So we see the number increase through the week. Thus, we saw the curve smoothen. Thus, we used a non-parametric way to estimate the pdf of a random variable. "
   ]
  },
  {
   "cell_type": "markdown",
   "metadata": {},
   "source": [
    "## Yelp users Analysis"
   ]
  },
  {
   "cell_type": "markdown",
   "metadata": {},
   "source": [
    "### Statistical Hypothesis Testing"
   ]
  },
  {
   "cell_type": "raw",
   "metadata": {},
   "source": [
    "In this section, we will examine the yelp user's average_stars. We will hypothisize about the average_stars and do statistical hypothesis testing. We will also build a MLE to predict a model based on the distribution of our data. "
   ]
  },
  {
   "cell_type": "code",
   "execution_count": 24,
   "metadata": {},
   "outputs": [
    {
     "data": {
      "text/html": [
       "<div>\n",
       "<style scoped>\n",
       "    .dataframe tbody tr th:only-of-type {\n",
       "        vertical-align: middle;\n",
       "    }\n",
       "\n",
       "    .dataframe tbody tr th {\n",
       "        vertical-align: top;\n",
       "    }\n",
       "\n",
       "    .dataframe thead th {\n",
       "        text-align: right;\n",
       "    }\n",
       "</style>\n",
       "<table border=\"1\" class=\"dataframe\">\n",
       "  <thead>\n",
       "    <tr style=\"text-align: right;\">\n",
       "      <th></th>\n",
       "      <th>user_id</th>\n",
       "      <th>name</th>\n",
       "      <th>review_count</th>\n",
       "      <th>yelping_since</th>\n",
       "      <th>friends</th>\n",
       "      <th>useful</th>\n",
       "      <th>funny</th>\n",
       "      <th>cool</th>\n",
       "      <th>fans</th>\n",
       "      <th>elite</th>\n",
       "      <th>average_stars</th>\n",
       "      <th>compliment_hot</th>\n",
       "      <th>compliment_more</th>\n",
       "      <th>compliment_profile</th>\n",
       "      <th>compliment_cute</th>\n",
       "      <th>compliment_list</th>\n",
       "      <th>compliment_note</th>\n",
       "      <th>compliment_plain</th>\n",
       "      <th>compliment_cool</th>\n",
       "      <th>compliment_funny</th>\n",
       "      <th>compliment_writer</th>\n",
       "      <th>compliment_photos</th>\n",
       "    </tr>\n",
       "  </thead>\n",
       "  <tbody>\n",
       "    <tr>\n",
       "      <th>0</th>\n",
       "      <td>JJ-aSuM4pCFPdkfoZ34q0Q</td>\n",
       "      <td>Chris</td>\n",
       "      <td>10</td>\n",
       "      <td>2013-09-24</td>\n",
       "      <td>0njfJmB-7n84DlIgUByCNw, rFn3Xe3RqHxRSxWOU19Gpg...</td>\n",
       "      <td>0</td>\n",
       "      <td>0</td>\n",
       "      <td>0</td>\n",
       "      <td>0</td>\n",
       "      <td>None</td>\n",
       "      <td>3.70</td>\n",
       "      <td>0</td>\n",
       "      <td>0</td>\n",
       "      <td>0</td>\n",
       "      <td>0</td>\n",
       "      <td>0</td>\n",
       "      <td>0</td>\n",
       "      <td>0</td>\n",
       "      <td>0</td>\n",
       "      <td>0</td>\n",
       "      <td>0</td>\n",
       "      <td>0</td>\n",
       "    </tr>\n",
       "    <tr>\n",
       "      <th>1</th>\n",
       "      <td>uUzsFQn_6cXDh6rPNGbIFA</td>\n",
       "      <td>Tiffy</td>\n",
       "      <td>1</td>\n",
       "      <td>2017-03-02</td>\n",
       "      <td>None</td>\n",
       "      <td>0</td>\n",
       "      <td>0</td>\n",
       "      <td>0</td>\n",
       "      <td>0</td>\n",
       "      <td>None</td>\n",
       "      <td>2.00</td>\n",
       "      <td>0</td>\n",
       "      <td>0</td>\n",
       "      <td>0</td>\n",
       "      <td>0</td>\n",
       "      <td>0</td>\n",
       "      <td>0</td>\n",
       "      <td>0</td>\n",
       "      <td>0</td>\n",
       "      <td>0</td>\n",
       "      <td>0</td>\n",
       "      <td>0</td>\n",
       "    </tr>\n",
       "    <tr>\n",
       "      <th>2</th>\n",
       "      <td>mBneaEEH5EMyxaVyqS-72A</td>\n",
       "      <td>Mark</td>\n",
       "      <td>6</td>\n",
       "      <td>2015-03-13</td>\n",
       "      <td>None</td>\n",
       "      <td>0</td>\n",
       "      <td>0</td>\n",
       "      <td>0</td>\n",
       "      <td>0</td>\n",
       "      <td>None</td>\n",
       "      <td>4.67</td>\n",
       "      <td>0</td>\n",
       "      <td>0</td>\n",
       "      <td>0</td>\n",
       "      <td>0</td>\n",
       "      <td>0</td>\n",
       "      <td>0</td>\n",
       "      <td>0</td>\n",
       "      <td>0</td>\n",
       "      <td>0</td>\n",
       "      <td>0</td>\n",
       "      <td>0</td>\n",
       "    </tr>\n",
       "    <tr>\n",
       "      <th>3</th>\n",
       "      <td>W5mJGs-dcDWRGEhAzUYtoA</td>\n",
       "      <td>Evelyn</td>\n",
       "      <td>3</td>\n",
       "      <td>2016-09-08</td>\n",
       "      <td>None</td>\n",
       "      <td>0</td>\n",
       "      <td>0</td>\n",
       "      <td>0</td>\n",
       "      <td>0</td>\n",
       "      <td>None</td>\n",
       "      <td>4.67</td>\n",
       "      <td>0</td>\n",
       "      <td>0</td>\n",
       "      <td>0</td>\n",
       "      <td>0</td>\n",
       "      <td>0</td>\n",
       "      <td>0</td>\n",
       "      <td>0</td>\n",
       "      <td>0</td>\n",
       "      <td>0</td>\n",
       "      <td>0</td>\n",
       "      <td>0</td>\n",
       "    </tr>\n",
       "    <tr>\n",
       "      <th>4</th>\n",
       "      <td>4E8--zUZO1Rr1IBK4_83fg</td>\n",
       "      <td>Lisa</td>\n",
       "      <td>11</td>\n",
       "      <td>2012-07-16</td>\n",
       "      <td>None</td>\n",
       "      <td>4</td>\n",
       "      <td>0</td>\n",
       "      <td>0</td>\n",
       "      <td>0</td>\n",
       "      <td>None</td>\n",
       "      <td>3.45</td>\n",
       "      <td>0</td>\n",
       "      <td>0</td>\n",
       "      <td>0</td>\n",
       "      <td>0</td>\n",
       "      <td>0</td>\n",
       "      <td>0</td>\n",
       "      <td>0</td>\n",
       "      <td>0</td>\n",
       "      <td>0</td>\n",
       "      <td>1</td>\n",
       "      <td>0</td>\n",
       "    </tr>\n",
       "  </tbody>\n",
       "</table>\n",
       "</div>"
      ],
      "text/plain": [
       "                  user_id    name  review_count yelping_since  \\\n",
       "0  JJ-aSuM4pCFPdkfoZ34q0Q   Chris            10    2013-09-24   \n",
       "1  uUzsFQn_6cXDh6rPNGbIFA   Tiffy             1    2017-03-02   \n",
       "2  mBneaEEH5EMyxaVyqS-72A    Mark             6    2015-03-13   \n",
       "3  W5mJGs-dcDWRGEhAzUYtoA  Evelyn             3    2016-09-08   \n",
       "4  4E8--zUZO1Rr1IBK4_83fg    Lisa            11    2012-07-16   \n",
       "\n",
       "                                             friends  useful  funny  cool  \\\n",
       "0  0njfJmB-7n84DlIgUByCNw, rFn3Xe3RqHxRSxWOU19Gpg...       0      0     0   \n",
       "1                                               None       0      0     0   \n",
       "2                                               None       0      0     0   \n",
       "3                                               None       0      0     0   \n",
       "4                                               None       4      0     0   \n",
       "\n",
       "   fans elite  average_stars  compliment_hot  compliment_more  \\\n",
       "0     0  None           3.70               0                0   \n",
       "1     0  None           2.00               0                0   \n",
       "2     0  None           4.67               0                0   \n",
       "3     0  None           4.67               0                0   \n",
       "4     0  None           3.45               0                0   \n",
       "\n",
       "   compliment_profile  compliment_cute  compliment_list  compliment_note  \\\n",
       "0                   0                0                0                0   \n",
       "1                   0                0                0                0   \n",
       "2                   0                0                0                0   \n",
       "3                   0                0                0                0   \n",
       "4                   0                0                0                0   \n",
       "\n",
       "   compliment_plain  compliment_cool  compliment_funny  compliment_writer  \\\n",
       "0                 0                0                 0                  0   \n",
       "1                 0                0                 0                  0   \n",
       "2                 0                0                 0                  0   \n",
       "3                 0                0                 0                  0   \n",
       "4                 0                0                 0                  1   \n",
       "\n",
       "   compliment_photos  \n",
       "0                  0  \n",
       "1                  0  \n",
       "2                  0  \n",
       "3                  0  \n",
       "4                  0  "
      ]
     },
     "execution_count": 24,
     "metadata": {},
     "output_type": "execute_result"
    }
   ],
   "source": [
    "yelp_user.head()"
   ]
  },
  {
   "cell_type": "raw",
   "metadata": {},
   "source": [
    "We are interested in checking out if the users who have been yelping since a long time give less stars to the restaurents. My hypothesis is that long term yelpers are foodies who are good critics of food. Hence, they'll likely have been in many good restaurents and have a higher average_stars compared to the new yelpers. My hypothesis is that new yelpers have just started using the app meaning they are starting to get more aware of the better restaurents only now. Also, since they are new, I suspect that they will have been to fewer restaurents and will thus have lower average_stars. \n",
    "\n",
    "Let us see if my hypothesis is correct. \n",
    "\n",
    "I will first subset the columns I am going to use for testing my hypothesis in a new dataframe. "
   ]
  },
  {
   "cell_type": "code",
   "execution_count": 25,
   "metadata": {},
   "outputs": [
    {
     "data": {
      "text/html": [
       "<div>\n",
       "<style scoped>\n",
       "    .dataframe tbody tr th:only-of-type {\n",
       "        vertical-align: middle;\n",
       "    }\n",
       "\n",
       "    .dataframe tbody tr th {\n",
       "        vertical-align: top;\n",
       "    }\n",
       "\n",
       "    .dataframe thead th {\n",
       "        text-align: right;\n",
       "    }\n",
       "</style>\n",
       "<table border=\"1\" class=\"dataframe\">\n",
       "  <thead>\n",
       "    <tr style=\"text-align: right;\">\n",
       "      <th></th>\n",
       "      <th>user_id</th>\n",
       "      <th>yelping_since</th>\n",
       "      <th>average_stars</th>\n",
       "    </tr>\n",
       "  </thead>\n",
       "  <tbody>\n",
       "    <tr>\n",
       "      <th>0</th>\n",
       "      <td>JJ-aSuM4pCFPdkfoZ34q0Q</td>\n",
       "      <td>2013-09-24</td>\n",
       "      <td>3.70</td>\n",
       "    </tr>\n",
       "    <tr>\n",
       "      <th>1</th>\n",
       "      <td>uUzsFQn_6cXDh6rPNGbIFA</td>\n",
       "      <td>2017-03-02</td>\n",
       "      <td>2.00</td>\n",
       "    </tr>\n",
       "    <tr>\n",
       "      <th>2</th>\n",
       "      <td>mBneaEEH5EMyxaVyqS-72A</td>\n",
       "      <td>2015-03-13</td>\n",
       "      <td>4.67</td>\n",
       "    </tr>\n",
       "    <tr>\n",
       "      <th>3</th>\n",
       "      <td>W5mJGs-dcDWRGEhAzUYtoA</td>\n",
       "      <td>2016-09-08</td>\n",
       "      <td>4.67</td>\n",
       "    </tr>\n",
       "    <tr>\n",
       "      <th>4</th>\n",
       "      <td>4E8--zUZO1Rr1IBK4_83fg</td>\n",
       "      <td>2012-07-16</td>\n",
       "      <td>3.45</td>\n",
       "    </tr>\n",
       "  </tbody>\n",
       "</table>\n",
       "</div>"
      ],
      "text/plain": [
       "                  user_id yelping_since  average_stars\n",
       "0  JJ-aSuM4pCFPdkfoZ34q0Q    2013-09-24           3.70\n",
       "1  uUzsFQn_6cXDh6rPNGbIFA    2017-03-02           2.00\n",
       "2  mBneaEEH5EMyxaVyqS-72A    2015-03-13           4.67\n",
       "3  W5mJGs-dcDWRGEhAzUYtoA    2016-09-08           4.67\n",
       "4  4E8--zUZO1Rr1IBK4_83fg    2012-07-16           3.45"
      ]
     },
     "execution_count": 25,
     "metadata": {},
     "output_type": "execute_result"
    }
   ],
   "source": [
    "reviews_analysis=yelp_user[['user_id','yelping_since','average_stars']]\n",
    "reviews_analysis.head()"
   ]
  },
  {
   "cell_type": "raw",
   "metadata": {},
   "source": [
    "I have to check for the quality of this data. I will start off by checking if the dataframe has any NaNs. "
   ]
  },
  {
   "cell_type": "code",
   "execution_count": 26,
   "metadata": {},
   "outputs": [
    {
     "data": {
      "text/plain": [
       "False"
      ]
     },
     "execution_count": 26,
     "metadata": {},
     "output_type": "execute_result"
    }
   ],
   "source": [
    "reviews_analysis.isnull().values.any()"
   ]
  },
  {
   "cell_type": "raw",
   "metadata": {},
   "source": [
    "We can see that there are no NaN values. We will now make two dataframes. First, we will define the newer yelpers as those who have been using it since last 2 years. All others for the purpose of my analysis will be considered older yelpers. "
   ]
  },
  {
   "cell_type": "code",
   "execution_count": 28,
   "metadata": {
    "scrolled": true
   },
   "outputs": [
    {
     "data": {
      "text/html": [
       "<div>\n",
       "<style scoped>\n",
       "    .dataframe tbody tr th:only-of-type {\n",
       "        vertical-align: middle;\n",
       "    }\n",
       "\n",
       "    .dataframe tbody tr th {\n",
       "        vertical-align: top;\n",
       "    }\n",
       "\n",
       "    .dataframe thead th {\n",
       "        text-align: right;\n",
       "    }\n",
       "</style>\n",
       "<table border=\"1\" class=\"dataframe\">\n",
       "  <thead>\n",
       "    <tr style=\"text-align: right;\">\n",
       "      <th></th>\n",
       "      <th>user_id</th>\n",
       "      <th>yelping_since</th>\n",
       "      <th>average_stars</th>\n",
       "    </tr>\n",
       "  </thead>\n",
       "  <tbody>\n",
       "    <tr>\n",
       "      <th>1</th>\n",
       "      <td>uUzsFQn_6cXDh6rPNGbIFA</td>\n",
       "      <td>2017-03-02</td>\n",
       "      <td>2.00</td>\n",
       "    </tr>\n",
       "    <tr>\n",
       "      <th>3</th>\n",
       "      <td>W5mJGs-dcDWRGEhAzUYtoA</td>\n",
       "      <td>2016-09-08</td>\n",
       "      <td>4.67</td>\n",
       "    </tr>\n",
       "    <tr>\n",
       "      <th>10</th>\n",
       "      <td>WRae-wZkpRoxMrgJdqwyxg</td>\n",
       "      <td>2017-11-29</td>\n",
       "      <td>5.00</td>\n",
       "    </tr>\n",
       "    <tr>\n",
       "      <th>11</th>\n",
       "      <td>Mmv5fPxbF8XEMN4EPT_Khg</td>\n",
       "      <td>2016-06-24</td>\n",
       "      <td>1.67</td>\n",
       "    </tr>\n",
       "    <tr>\n",
       "      <th>14</th>\n",
       "      <td>V--GjQPlTpeWbcB2cS06Gw</td>\n",
       "      <td>2017-10-24</td>\n",
       "      <td>3.00</td>\n",
       "    </tr>\n",
       "  </tbody>\n",
       "</table>\n",
       "</div>"
      ],
      "text/plain": [
       "                   user_id yelping_since  average_stars\n",
       "1   uUzsFQn_6cXDh6rPNGbIFA    2017-03-02           2.00\n",
       "3   W5mJGs-dcDWRGEhAzUYtoA    2016-09-08           4.67\n",
       "10  WRae-wZkpRoxMrgJdqwyxg    2017-11-29           5.00\n",
       "11  Mmv5fPxbF8XEMN4EPT_Khg    2016-06-24           1.67\n",
       "14  V--GjQPlTpeWbcB2cS06Gw    2017-10-24           3.00"
      ]
     },
     "execution_count": 28,
     "metadata": {},
     "output_type": "execute_result"
    }
   ],
   "source": [
    "New_users=reviews_analysis.loc[(reviews_analysis['yelping_since'] > '2016-01-01')]\n",
    "New_users.head()"
   ]
  },
  {
   "cell_type": "raw",
   "metadata": {},
   "source": [
    "And now the dataframe for the older users will be as follows. "
   ]
  },
  {
   "cell_type": "code",
   "execution_count": 29,
   "metadata": {},
   "outputs": [
    {
     "data": {
      "text/html": [
       "<div>\n",
       "<style scoped>\n",
       "    .dataframe tbody tr th:only-of-type {\n",
       "        vertical-align: middle;\n",
       "    }\n",
       "\n",
       "    .dataframe tbody tr th {\n",
       "        vertical-align: top;\n",
       "    }\n",
       "\n",
       "    .dataframe thead th {\n",
       "        text-align: right;\n",
       "    }\n",
       "</style>\n",
       "<table border=\"1\" class=\"dataframe\">\n",
       "  <thead>\n",
       "    <tr style=\"text-align: right;\">\n",
       "      <th></th>\n",
       "      <th>user_id</th>\n",
       "      <th>yelping_since</th>\n",
       "      <th>average_stars</th>\n",
       "    </tr>\n",
       "  </thead>\n",
       "  <tbody>\n",
       "    <tr>\n",
       "      <th>0</th>\n",
       "      <td>JJ-aSuM4pCFPdkfoZ34q0Q</td>\n",
       "      <td>2013-09-24</td>\n",
       "      <td>3.70</td>\n",
       "    </tr>\n",
       "    <tr>\n",
       "      <th>2</th>\n",
       "      <td>mBneaEEH5EMyxaVyqS-72A</td>\n",
       "      <td>2015-03-13</td>\n",
       "      <td>4.67</td>\n",
       "    </tr>\n",
       "    <tr>\n",
       "      <th>4</th>\n",
       "      <td>4E8--zUZO1Rr1IBK4_83fg</td>\n",
       "      <td>2012-07-16</td>\n",
       "      <td>3.45</td>\n",
       "    </tr>\n",
       "    <tr>\n",
       "      <th>5</th>\n",
       "      <td>Ob-2oGBQ7rwwYwUvhmnf7g</td>\n",
       "      <td>2012-05-01</td>\n",
       "      <td>4.78</td>\n",
       "    </tr>\n",
       "    <tr>\n",
       "      <th>6</th>\n",
       "      <td>JaTVvKsBl0bHHJEpESn4pQ</td>\n",
       "      <td>2013-03-23</td>\n",
       "      <td>5.00</td>\n",
       "    </tr>\n",
       "  </tbody>\n",
       "</table>\n",
       "</div>"
      ],
      "text/plain": [
       "                  user_id yelping_since  average_stars\n",
       "0  JJ-aSuM4pCFPdkfoZ34q0Q    2013-09-24           3.70\n",
       "2  mBneaEEH5EMyxaVyqS-72A    2015-03-13           4.67\n",
       "4  4E8--zUZO1Rr1IBK4_83fg    2012-07-16           3.45\n",
       "5  Ob-2oGBQ7rwwYwUvhmnf7g    2012-05-01           4.78\n",
       "6  JaTVvKsBl0bHHJEpESn4pQ    2013-03-23           5.00"
      ]
     },
     "execution_count": 29,
     "metadata": {},
     "output_type": "execute_result"
    }
   ],
   "source": [
    "Old_users=reviews_analysis.loc[(reviews_analysis['yelping_since'] < '2016-01-01')]\n",
    "Old_users.head()"
   ]
  },
  {
   "cell_type": "raw",
   "metadata": {},
   "source": [
    "A good way to compare the stars given by new and old users is to take their mean. Let us do that. "
   ]
  },
  {
   "cell_type": "code",
   "execution_count": 30,
   "metadata": {},
   "outputs": [
    {
     "data": {
      "text/plain": [
       "3.6913265697297337"
      ]
     },
     "execution_count": 30,
     "metadata": {},
     "output_type": "execute_result"
    }
   ],
   "source": [
    "New_users[\"average_stars\"].mean()\n"
   ]
  },
  {
   "cell_type": "code",
   "execution_count": 31,
   "metadata": {},
   "outputs": [
    {
     "data": {
      "text/plain": [
       "3.7148497684152932"
      ]
     },
     "execution_count": 31,
     "metadata": {},
     "output_type": "execute_result"
    }
   ],
   "source": [
    "Old_users[\"average_stars\"].mean()"
   ]
  },
  {
   "cell_type": "raw",
   "metadata": {},
   "source": [
    "We can see that old users in fact have higher average star than the new users. That's interesting !!\n",
    "\n",
    "Let us now perform a Two Sample T test to check our hypothesis. "
   ]
  },
  {
   "cell_type": "code",
   "execution_count": 32,
   "metadata": {},
   "outputs": [
    {
     "data": {
      "text/plain": [
       "Ttest_indResult(statistic=-7.526521305107032, pvalue=5.22656993930623e-14)"
      ]
     },
     "execution_count": 32,
     "metadata": {},
     "output_type": "execute_result"
    }
   ],
   "source": [
    "import scipy.stats as stats\n",
    "stats.ttest_ind(a= New_users.average_stars,\n",
    "                b= Old_users.average_stars,\n",
    "                equal_var=False)  "
   ]
  },
  {
   "cell_type": "raw",
   "metadata": {},
   "source": [
    "We can see that the p value is very high. This would mean that we fail to reject the null hypothesis that older yelp users have a higher average star rating since the p value is way greater than the 95% CI. We can thus conclude that the hypothesis that the older yelpers have a higher average star on account of them being better food critics and more aware of the better restaurents is in fact true."
   ]
  },
  {
   "cell_type": "markdown",
   "metadata": {},
   "source": [
    "### Estimating a model"
   ]
  },
  {
   "cell_type": "raw",
   "metadata": {},
   "source": [
    "We already did the hypothesis testing to see if my hypothesis that older users have a lower star giving potential than the newer ones. It wasn't the case. We will now check how the number of reviews given by the yelper is related to the average stars of that yelper. First off, we will visualize it.\n"
   ]
  },
  {
   "cell_type": "code",
   "execution_count": 33,
   "metadata": {},
   "outputs": [
    {
     "data": {
      "text/plain": [
       "<matplotlib.axes._subplots.AxesSubplot at 0x1b6a1effd68>"
      ]
     },
     "execution_count": 33,
     "metadata": {},
     "output_type": "execute_result"
    },
    {
     "data": {
      "image/png": "[encoded data removed]",
      "text/plain": [
       "<matplotlib.figure.Figure at 0x1b7006c1240>"
      ]
     },
     "metadata": {},
     "output_type": "display_data"
    }
   ],
   "source": [
    "sns.regplot(x='review_count',y='average_stars',data=yelp_user)"
   ]
  },
  {
   "cell_type": "raw",
   "metadata": {},
   "source": [
    "We can see that as per our initial belief, the average_stars actually increase with the review_count. Let us try to group by review_count the average_stars. For that, we will subset these two columns in a new dataframe. "
   ]
  },
  {
   "cell_type": "code",
   "execution_count": 34,
   "metadata": {},
   "outputs": [
    {
     "data": {
      "text/html": [
       "<div>\n",
       "<style scoped>\n",
       "    .dataframe tbody tr th:only-of-type {\n",
       "        vertical-align: middle;\n",
       "    }\n",
       "\n",
       "    .dataframe tbody tr th {\n",
       "        vertical-align: top;\n",
       "    }\n",
       "\n",
       "    .dataframe thead th {\n",
       "        text-align: right;\n",
       "    }\n",
       "</style>\n",
       "<table border=\"1\" class=\"dataframe\">\n",
       "  <thead>\n",
       "    <tr style=\"text-align: right;\">\n",
       "      <th></th>\n",
       "      <th>review_count</th>\n",
       "      <th>average_stars</th>\n",
       "    </tr>\n",
       "  </thead>\n",
       "  <tbody>\n",
       "    <tr>\n",
       "      <th>0</th>\n",
       "      <td>10</td>\n",
       "      <td>3.70</td>\n",
       "    </tr>\n",
       "    <tr>\n",
       "      <th>1</th>\n",
       "      <td>1</td>\n",
       "      <td>2.00</td>\n",
       "    </tr>\n",
       "    <tr>\n",
       "      <th>2</th>\n",
       "      <td>6</td>\n",
       "      <td>4.67</td>\n",
       "    </tr>\n",
       "    <tr>\n",
       "      <th>3</th>\n",
       "      <td>3</td>\n",
       "      <td>4.67</td>\n",
       "    </tr>\n",
       "    <tr>\n",
       "      <th>4</th>\n",
       "      <td>11</td>\n",
       "      <td>3.45</td>\n",
       "    </tr>\n",
       "  </tbody>\n",
       "</table>\n",
       "</div>"
      ],
      "text/plain": [
       "   review_count  average_stars\n",
       "0            10           3.70\n",
       "1             1           2.00\n",
       "2             6           4.67\n",
       "3             3           4.67\n",
       "4            11           3.45"
      ]
     },
     "execution_count": 34,
     "metadata": {},
     "output_type": "execute_result"
    }
   ],
   "source": [
    "star_count=yelp_user[['review_count','average_stars']]\n",
    "star_count.head()"
   ]
  },
  {
   "cell_type": "code",
   "execution_count": 35,
   "metadata": {
    "scrolled": true
   },
   "outputs": [
    {
     "data": {
      "text/html": [
       "<div>\n",
       "<style scoped>\n",
       "    .dataframe tbody tr th:only-of-type {\n",
       "        vertical-align: middle;\n",
       "    }\n",
       "\n",
       "    .dataframe tbody tr th {\n",
       "        vertical-align: top;\n",
       "    }\n",
       "\n",
       "    .dataframe thead th {\n",
       "        text-align: right;\n",
       "    }\n",
       "</style>\n",
       "<table border=\"1\" class=\"dataframe\">\n",
       "  <thead>\n",
       "    <tr style=\"text-align: right;\">\n",
       "      <th></th>\n",
       "      <th>average_stars</th>\n",
       "    </tr>\n",
       "    <tr>\n",
       "      <th>review_count</th>\n",
       "      <th></th>\n",
       "    </tr>\n",
       "  </thead>\n",
       "  <tbody>\n",
       "    <tr>\n",
       "      <th>0</th>\n",
       "      <td>3.865896</td>\n",
       "    </tr>\n",
       "    <tr>\n",
       "      <th>1</th>\n",
       "      <td>3.577236</td>\n",
       "    </tr>\n",
       "    <tr>\n",
       "      <th>2</th>\n",
       "      <td>3.681532</td>\n",
       "    </tr>\n",
       "    <tr>\n",
       "      <th>3</th>\n",
       "      <td>3.706930</td>\n",
       "    </tr>\n",
       "    <tr>\n",
       "      <th>4</th>\n",
       "      <td>3.721969</td>\n",
       "    </tr>\n",
       "  </tbody>\n",
       "</table>\n",
       "</div>"
      ],
      "text/plain": [
       "              average_stars\n",
       "review_count               \n",
       "0                  3.865896\n",
       "1                  3.577236\n",
       "2                  3.681532\n",
       "3                  3.706930\n",
       "4                  3.721969"
      ]
     },
     "execution_count": 35,
     "metadata": {},
     "output_type": "execute_result"
    }
   ],
   "source": [
    "star_count_grouped=star_count.groupby([\"review_count\"]).mean()\n",
    "star_count_grouped.head()"
   ]
  },
  {
   "cell_type": "raw",
   "metadata": {},
   "source": [
    "Okay, now that we have grouped the average_stars by the review_count, we essentially have a average_star rating for each of the review_count. We will now plot a histogram to see what the distribution is for this data. "
   ]
  },
  {
   "cell_type": "code",
   "execution_count": 36,
   "metadata": {},
   "outputs": [
    {
     "data": {
      "text/plain": [
       "<matplotlib.axes._subplots.AxesSubplot at 0x1b700c505f8>"
      ]
     },
     "execution_count": 36,
     "metadata": {},
     "output_type": "execute_result"
    },
    {
     "data": {
      "image/png": "[encoded data removed]",
      "text/plain": [
       "<matplotlib.figure.Figure at 0x1b700be45c0>"
      ]
     },
     "metadata": {},
     "output_type": "display_data"
    }
   ],
   "source": [
    "sns.distplot(star_count_grouped)"
   ]
  },
  {
   "cell_type": "raw",
   "metadata": {},
   "source": [
    "This data as we can see has a normal distribution. I will thus try to estimate a normal model based on the histogram that fits the data. \n",
    "\n",
    "First, let us find the mean and the standard deviation of this data. "
   ]
  },
  {
   "cell_type": "code",
   "execution_count": 38,
   "metadata": {},
   "outputs": [
    {
     "data": {
      "text/plain": [
       "3.75348532682819"
      ]
     },
     "execution_count": 38,
     "metadata": {},
     "output_type": "execute_result"
    }
   ],
   "source": [
    "mu=star_count_grouped[\"average_stars\"].mean()\n",
    "sig=star_count_grouped[\"average_stars\"].std()\n",
    "mu"
   ]
  },
  {
   "cell_type": "raw",
   "metadata": {},
   "source": [
    "So now we know that our data is normally distributed. We also calculated the mean and sd of the data. Let us know build an algorithm to sample through these posteriors. "
   ]
  },
  {
   "cell_type": "markdown",
   "metadata": {},
   "source": [
    "### MCMC Sampling"
   ]
  },
  {
   "cell_type": "markdown",
   "metadata": {},
   "source": [
    "#### Estimating the normal distribution of review_count- average_stars model"
   ]
  },
  {
   "cell_type": "raw",
   "metadata": {},
   "source": [
    "We sample some random variates from the Normal distribution of our data, and MCMC-estimate it with a search on the x axis. I will essentially define logP(θ) function and pass it to the sampler class. The sampler class will then return a sampler object which I will use to sample from ⁡P(θ).   "
   ]
  },
  {
   "cell_type": "code",
   "execution_count": 39,
   "metadata": {},
   "outputs": [
    {
     "name": "stdout",
     "output_type": "stream",
     "text": [
      "\r",
      "Progress: [##############################] 10000 of 10000 samples\n"
     ]
    },
    {
     "data": {
      "image/png": "[encoded data removed]",
      "text/plain": [
       "<matplotlib.figure.Figure at 0x1b700726ef0>"
      ]
     },
     "metadata": {},
     "output_type": "display_data"
    }
   ],
   "source": [
    "%matplotlib inline\n",
    "import matplotlib.pyplot as plt\n",
    "import sampyl as smp\n",
    "from sampyl import np\n",
    "import math\n",
    "\n",
    "# Autograd throws some warnings that are useful, but this is\n",
    "# a demonstration, let's squelch them\n",
    "import warnings\n",
    "warnings.filterwarnings('ignore')\n",
    "\n",
    "mu, sig = mu, sig\n",
    "def logp(x):\n",
    "    return  -np.log(sig) - (x - mu)**2/(2*sig**2)\n",
    "\n",
    "def gaussian(x):\n",
    "    return (1. / (sig * math.sqrt(2 * math.pi))) * math.exp((-(x - mu)**2)/(2 * sig**2))\n",
    "\n",
    "start = smp.find_MAP(logp, {'x':1.})\n",
    "metro = smp.Metropolis(logp, start)\n",
    "chain = metro(10000, burn=2000, thin=4)\n",
    "\n",
    "xs = np.linspace(-5, 10, num=2000)\n",
    "normald = [gaussian(x) for x in xs]\n",
    "\n",
    "fig, axes = plt.subplots(figsize=(16,4),ncols=3)\n",
    "for i, ax in enumerate(axes):\n",
    "    if (i == 0):\n",
    "        ax.plot(chain.x)\n",
    "    elif (i == 1):\n",
    "        ax.hist(chain.x, bins=30)\n",
    "        ax.vlines(mu, 0, 250, linestyles='--')\n",
    "    else:\n",
    "        ax.plot(xs, normald)"
   ]
  },
  {
   "cell_type": "raw",
   "metadata": {},
   "source": [
    "We plotted the randomly sampled data from my dataset from the log of normal distribution with a mean of 3.75 and we can see the dotted line is also very close to that.The shape of the gaussian is also perfectly estimated. "
   ]
  },
  {
   "cell_type": "markdown",
   "metadata": {},
   "source": [
    "### Estimating a model based on the data with histogram expected to match normal distribution"
   ]
  },
  {
   "cell_type": "raw",
   "metadata": {},
   "source": [
    "We will now estimate a model based on my data expected to match the histogram for normal distribution by doing an exponential search in the parameter space (μ,σ). I will infact compare the mean and standard deviation of the data sampled by this model with the population mean and stardard deviation."
   ]
  },
  {
   "cell_type": "code",
   "execution_count": 40,
   "metadata": {},
   "outputs": [
    {
     "name": "stdout",
     "output_type": "stream",
     "text": [
      "Progress: [##############################] 10000 of 10000 samples\n",
      "exact values:\n",
      "3.75348532682819 0.18031278127365452\n",
      "estimated values:\n",
      "3.7610560688615595 0.18187124252074136\n"
     ]
    },
    {
     "data": {
      "image/png": "[encoded data removed]",
      "text/plain": [
       "<matplotlib.figure.Figure at 0x1b6a1d89ac8>"
      ]
     },
     "metadata": {},
     "output_type": "display_data"
    }
   ],
   "source": [
    "%matplotlib inline\n",
    "import matplotlib.pyplot as plt\n",
    "import sampyl as smp\n",
    "from sampyl import np\n",
    "import math\n",
    "\n",
    "# Autograd throws some warnings that are useful, but this is\n",
    "# a demonstration, let's squelch them\n",
    "import warnings\n",
    "warnings.filterwarnings('ignore')\n",
    "\n",
    "mu_r, sig_r = mu,sig\n",
    "data = np.random.normal(mu_r, sig_r, 1000)\n",
    "\n",
    "def gaussian(x, m, s):\n",
    "    return (1. / (s * math.sqrt(2 * math.pi))) * math.exp((-(x - m)**2)/(2 * s**2))\n",
    "\n",
    "# Define the log-P function here\n",
    "def logp(mu_p, sig_p):\n",
    "    model = smp.Model()\n",
    "    \n",
    "    # Normal log-likelihood\n",
    "    model.add(smp.normal(data, mu=mu_p, sig=sig_p))\n",
    "\n",
    "    # Exponential log-priors for parameters\n",
    "    model.add(smp.exponential(mu_p), smp.exponential(sig_p))\n",
    "    \n",
    "    return model()\n",
    "\n",
    "start = smp.find_MAP(logp, {'mu_p':1., 'sig_p':1.})\n",
    "metro = smp.Metropolis(logp, start)\n",
    "chain = metro(10000, burn=2000, thin=4)\n",
    "print('exact values:')\n",
    "print(mu_r, sig_r)\n",
    "print('estimated values:')\n",
    "print(chain.mu_p.mean(), chain.sig_p.mean())\n",
    "\n",
    "xs = np.linspace(-5, 10, num=2000)\n",
    "exact = [gaussian(x, mu_r, sig_r) for x in xs]\n",
    "estimated = [gaussian(x, chain.mu_p.mean(), chain.sig_p.mean()) for x in xs]\n",
    "\n",
    "fig, axes = plt.subplots(figsize=(16,4),ncols=4)\n",
    "for i, ax in enumerate(axes):\n",
    "    if (i == 0):\n",
    "        ax.plot(chain.mu_p)\n",
    "    elif (i == 1):\n",
    "        ax.plot(chain.sig_p)\n",
    "    elif (i == 2):\n",
    "        ax.plot(xs, exact)\n",
    "    elif (i -- 3):\n",
    "        ax.plot(xs, estimated)\n"
   ]
  },
  {
   "cell_type": "raw",
   "metadata": {},
   "source": [
    "We thus saw that the predicted model is in fact a very accurate one with an estimated mean of 3.74 compared to the 3.75 mean of posterior. The predicted model also takes the exact shape. "
   ]
  },
  {
   "cell_type": "markdown",
   "metadata": {},
   "source": [
    "## Yelp Star rating prediction"
   ]
  },
  {
   "cell_type": "raw",
   "metadata": {},
   "source": [
    "For this section, we will be building algorithms to predict the star rating of the restaurent given a few important paramters.\n",
    "\n",
    "First, we will find the count of stars given to each restaurent. We will name it as NumberOfReviews. "
   ]
  },
  {
   "cell_type": "code",
   "execution_count": 52,
   "metadata": {},
   "outputs": [],
   "source": [
    "review_business = yelp_review.groupby(by='business_id')\n",
    "\n",
    "review_businessid = pd.DataFrame()\n",
    "review_businessid['NumberOfReviews'] = review_business['stars'].count()"
   ]
  },
  {
   "cell_type": "raw",
   "metadata": {},
   "source": [
    "Next, we will find the sum of checkins for each restaurent. We will name it checkins. We will then merge this dataframe with the stars count dataframe."
   ]
  },
  {
   "cell_type": "code",
   "execution_count": 90,
   "metadata": {},
   "outputs": [],
   "source": [
    "checkin_bus = yelp_checkin.groupby(by='business_id')\n",
    "\n",
    "checkin_busid = pd.DataFrame()\n",
    "checkin_busid['TotalCheckins'] = checkin_bus['checkins'].sum()\n",
    "\n",
    "checkin_busid.reset_index(inplace=True)\n",
    "review_businessid.reset_index(inplace=True)\n",
    "\n",
    "\n",
    "review_businessid = pd.merge(left=review_businessid,right=checkin_busid,on='business_id', how='left')\n"
   ]
  },
  {
   "cell_type": "raw",
   "metadata": {},
   "source": [
    "Now, let us merge the counts of stars per business and number of checkins per business with the yelp_business dataframe."
   ]
  },
  {
   "cell_type": "code",
   "execution_count": 56,
   "metadata": {},
   "outputs": [],
   "source": [
    "yelp_business_new = pd.merge(left=yelp_business,right=review_businessid,on='business_id',how='left')"
   ]
  },
  {
   "cell_type": "code",
   "execution_count": 57,
   "metadata": {},
   "outputs": [
    {
     "data": {
      "text/html": [
       "<div>\n",
       "<style scoped>\n",
       "    .dataframe tbody tr th:only-of-type {\n",
       "        vertical-align: middle;\n",
       "    }\n",
       "\n",
       "    .dataframe tbody tr th {\n",
       "        vertical-align: top;\n",
       "    }\n",
       "\n",
       "    .dataframe thead th {\n",
       "        text-align: right;\n",
       "    }\n",
       "</style>\n",
       "<table border=\"1\" class=\"dataframe\">\n",
       "  <thead>\n",
       "    <tr style=\"text-align: right;\">\n",
       "      <th></th>\n",
       "      <th>business_id</th>\n",
       "      <th>name</th>\n",
       "      <th>neighborhood</th>\n",
       "      <th>address</th>\n",
       "      <th>city</th>\n",
       "      <th>state</th>\n",
       "      <th>postal_code</th>\n",
       "      <th>latitude</th>\n",
       "      <th>longitude</th>\n",
       "      <th>stars</th>\n",
       "      <th>review_count</th>\n",
       "      <th>is_open</th>\n",
       "      <th>categories</th>\n",
       "      <th>Mean</th>\n",
       "      <th>Median</th>\n",
       "      <th>NumberOfReviews</th>\n",
       "      <th>TotalCheckins</th>\n",
       "    </tr>\n",
       "  </thead>\n",
       "  <tbody>\n",
       "    <tr>\n",
       "      <th>0</th>\n",
       "      <td>FYWN1wneV18bWNgQjJ2GNg</td>\n",
       "      <td>\"Dental by Design\"</td>\n",
       "      <td>NaN</td>\n",
       "      <td>\"4855 E Warner Rd, Ste B9\"</td>\n",
       "      <td>Ahwatukee</td>\n",
       "      <td>AZ</td>\n",
       "      <td>85044</td>\n",
       "      <td>33.330690</td>\n",
       "      <td>-111.978599</td>\n",
       "      <td>4.0</td>\n",
       "      <td>22</td>\n",
       "      <td>1</td>\n",
       "      <td>Dentists;General Dentistry;Health &amp; Medical;Or...</td>\n",
       "      <td>3.956522</td>\n",
       "      <td>5.0</td>\n",
       "      <td>23</td>\n",
       "      <td>39.0</td>\n",
       "    </tr>\n",
       "    <tr>\n",
       "      <th>1</th>\n",
       "      <td>He-G7vWjzVUysIKrfNbPUQ</td>\n",
       "      <td>\"Stephen Szabo Salon\"</td>\n",
       "      <td>NaN</td>\n",
       "      <td>\"3101 Washington Rd\"</td>\n",
       "      <td>McMurray</td>\n",
       "      <td>PA</td>\n",
       "      <td>15317</td>\n",
       "      <td>40.291685</td>\n",
       "      <td>-80.104900</td>\n",
       "      <td>3.0</td>\n",
       "      <td>11</td>\n",
       "      <td>1</td>\n",
       "      <td>Hair Stylists;Hair Salons;Men's Hair Salons;Bl...</td>\n",
       "      <td>2.909091</td>\n",
       "      <td>2.0</td>\n",
       "      <td>11</td>\n",
       "      <td>15.0</td>\n",
       "    </tr>\n",
       "    <tr>\n",
       "      <th>2</th>\n",
       "      <td>KQPW8lFf1y5BT2MxiSZ3QA</td>\n",
       "      <td>\"Western Motor Vehicle\"</td>\n",
       "      <td>NaN</td>\n",
       "      <td>\"6025 N 27th Ave, Ste 1\"</td>\n",
       "      <td>Phoenix</td>\n",
       "      <td>AZ</td>\n",
       "      <td>85017</td>\n",
       "      <td>33.524903</td>\n",
       "      <td>-112.115310</td>\n",
       "      <td>1.5</td>\n",
       "      <td>18</td>\n",
       "      <td>1</td>\n",
       "      <td>Departments of Motor Vehicles;Public Services ...</td>\n",
       "      <td>1.666667</td>\n",
       "      <td>1.0</td>\n",
       "      <td>18</td>\n",
       "      <td>6.0</td>\n",
       "    </tr>\n",
       "  </tbody>\n",
       "</table>\n",
       "</div>"
      ],
      "text/plain": [
       "              business_id                     name neighborhood  \\\n",
       "0  FYWN1wneV18bWNgQjJ2GNg       \"Dental by Design\"          NaN   \n",
       "1  He-G7vWjzVUysIKrfNbPUQ    \"Stephen Szabo Salon\"          NaN   \n",
       "2  KQPW8lFf1y5BT2MxiSZ3QA  \"Western Motor Vehicle\"          NaN   \n",
       "\n",
       "                      address       city state postal_code   latitude  \\\n",
       "0  \"4855 E Warner Rd, Ste B9\"  Ahwatukee    AZ       85044  33.330690   \n",
       "1        \"3101 Washington Rd\"   McMurray    PA       15317  40.291685   \n",
       "2    \"6025 N 27th Ave, Ste 1\"    Phoenix    AZ       85017  33.524903   \n",
       "\n",
       "    longitude  stars  review_count  is_open  \\\n",
       "0 -111.978599    4.0            22        1   \n",
       "1  -80.104900    3.0            11        1   \n",
       "2 -112.115310    1.5            18        1   \n",
       "\n",
       "                                          categories      Mean  Median  \\\n",
       "0  Dentists;General Dentistry;Health & Medical;Or...  3.956522     5.0   \n",
       "1  Hair Stylists;Hair Salons;Men's Hair Salons;Bl...  2.909091     2.0   \n",
       "2  Departments of Motor Vehicles;Public Services ...  1.666667     1.0   \n",
       "\n",
       "   NumberOfReviews  TotalCheckins  \n",
       "0               23           39.0  \n",
       "1               11           15.0  \n",
       "2               18            6.0  "
      ]
     },
     "execution_count": 57,
     "metadata": {},
     "output_type": "execute_result"
    }
   ],
   "source": [
    "yelp_business_new.head(3)"
   ]
  },
  {
   "cell_type": "raw",
   "metadata": {},
   "source": [
    "To build the algorithms to predict the stars, we will subset the relevant columns in a new dataframe."
   ]
  },
  {
   "cell_type": "code",
   "execution_count": 60,
   "metadata": {},
   "outputs": [],
   "source": [
    "Checkins_pred= yelp_business_new[['stars','city','review_count','Mean','Median','NumberOfReviews','TotalCheckins']]\n"
   ]
  },
  {
   "cell_type": "code",
   "execution_count": 61,
   "metadata": {},
   "outputs": [
    {
     "data": {
      "text/html": [
       "<div>\n",
       "<style scoped>\n",
       "    .dataframe tbody tr th:only-of-type {\n",
       "        vertical-align: middle;\n",
       "    }\n",
       "\n",
       "    .dataframe tbody tr th {\n",
       "        vertical-align: top;\n",
       "    }\n",
       "\n",
       "    .dataframe thead th {\n",
       "        text-align: right;\n",
       "    }\n",
       "</style>\n",
       "<table border=\"1\" class=\"dataframe\">\n",
       "  <thead>\n",
       "    <tr style=\"text-align: right;\">\n",
       "      <th></th>\n",
       "      <th>stars</th>\n",
       "      <th>city</th>\n",
       "      <th>review_count</th>\n",
       "      <th>Mean</th>\n",
       "      <th>Median</th>\n",
       "      <th>NumberOfReviews</th>\n",
       "      <th>TotalCheckins</th>\n",
       "    </tr>\n",
       "  </thead>\n",
       "  <tbody>\n",
       "    <tr>\n",
       "      <th>0</th>\n",
       "      <td>4.0</td>\n",
       "      <td>Ahwatukee</td>\n",
       "      <td>22</td>\n",
       "      <td>3.956522</td>\n",
       "      <td>5.0</td>\n",
       "      <td>23</td>\n",
       "      <td>39.0</td>\n",
       "    </tr>\n",
       "    <tr>\n",
       "      <th>1</th>\n",
       "      <td>3.0</td>\n",
       "      <td>McMurray</td>\n",
       "      <td>11</td>\n",
       "      <td>2.909091</td>\n",
       "      <td>2.0</td>\n",
       "      <td>11</td>\n",
       "      <td>15.0</td>\n",
       "    </tr>\n",
       "    <tr>\n",
       "      <th>2</th>\n",
       "      <td>1.5</td>\n",
       "      <td>Phoenix</td>\n",
       "      <td>18</td>\n",
       "      <td>1.666667</td>\n",
       "      <td>1.0</td>\n",
       "      <td>18</td>\n",
       "      <td>6.0</td>\n",
       "    </tr>\n",
       "  </tbody>\n",
       "</table>\n",
       "</div>"
      ],
      "text/plain": [
       "   stars       city  review_count      Mean  Median  NumberOfReviews  \\\n",
       "0    4.0  Ahwatukee            22  3.956522     5.0               23   \n",
       "1    3.0   McMurray            11  2.909091     2.0               11   \n",
       "2    1.5    Phoenix            18  1.666667     1.0               18   \n",
       "\n",
       "   TotalCheckins  \n",
       "0           39.0  \n",
       "1           15.0  \n",
       "2            6.0  "
      ]
     },
     "execution_count": 61,
     "metadata": {},
     "output_type": "execute_result"
    }
   ],
   "source": [
    "Checkins_pred.head(3)"
   ]
  },
  {
   "cell_type": "code",
   "execution_count": 62,
   "metadata": {},
   "outputs": [
    {
     "data": {
      "text/plain": [
       "(174567, 7)"
      ]
     },
     "execution_count": 62,
     "metadata": {},
     "output_type": "execute_result"
    }
   ],
   "source": [
    "Checkins_pred.shape"
   ]
  },
  {
   "cell_type": "raw",
   "metadata": {},
   "source": [
    "Let us get rid of the na values so that the algorithms can run smoothly. "
   ]
  },
  {
   "cell_type": "code",
   "execution_count": 66,
   "metadata": {},
   "outputs": [],
   "source": [
    "Checkins=Checkins_pred.dropna()"
   ]
  },
  {
   "cell_type": "code",
   "execution_count": 67,
   "metadata": {},
   "outputs": [
    {
     "data": {
      "text/plain": [
       "(146349, 7)"
      ]
     },
     "execution_count": 67,
     "metadata": {},
     "output_type": "execute_result"
    }
   ],
   "source": [
    "Checkins.shape"
   ]
  },
  {
   "cell_type": "raw",
   "metadata": {},
   "source": [
    "Now, we will subset the dependent and independent variables in separate dataframes. "
   ]
  },
  {
   "cell_type": "code",
   "execution_count": 83,
   "metadata": {},
   "outputs": [],
   "source": [
    "cols1 = ['TotalCheckins','review_count','NumberOfReviews'\n",
    " \n",
    "        ]\n",
    "X = Checkins[cols1]\n",
    "y = Checkins['stars'].astype('int')\n",
    "\n",
    "X.fillna(0.0,inplace=True)"
   ]
  },
  {
   "cell_type": "raw",
   "metadata": {},
   "source": [
    "Let us now divide the data into training and testing dataframes. "
   ]
  },
  {
   "cell_type": "code",
   "execution_count": 84,
   "metadata": {},
   "outputs": [],
   "source": [
    "train_X, test_X, train_y, test_y = train_test_split(X,y,test_size = 0.3, random_state = 42)"
   ]
  },
  {
   "cell_type": "raw",
   "metadata": {},
   "source": [
    "We will be using the sklearn module to import the LinearRegression model. Let us load that module. "
   ]
  },
  {
   "cell_type": "code",
   "execution_count": 85,
   "metadata": {},
   "outputs": [],
   "source": [
    "import statsmodels.formula.api as smf\n",
    "from sklearn.linear_model import LinearRegression\n",
    "from sklearn import metrics\n",
    "from sklearn.cross_validation import train_test_split\n",
    "import numpy as np\n"
   ]
  },
  {
   "cell_type": "raw",
   "metadata": {},
   "source": [
    "Building a linear regression model to predict the star rating of restaurents."
   ]
  },
  {
   "cell_type": "code",
   "execution_count": 86,
   "metadata": {
    "scrolled": true
   },
   "outputs": [
    {
     "name": "stdout",
     "output_type": "stream",
     "text": [
      "0.9968292048574879\n"
     ]
    }
   ],
   "source": [
    "lm2 = LinearRegression()\n",
    "\n",
    "# Fit Model\n",
    "lm2.fit(train_X, train_y)\n",
    "\n",
    "# Predict\n",
    "lm2_pred = lm2.predict(test_X)\n",
    "\n",
    "# RMSE\n",
    "print(np.sqrt(metrics.mean_squared_error(test_y, lm2_pred)))"
   ]
  },
  {
   "cell_type": "raw",
   "metadata": {},
   "source": [
    "Let us also caculate the variance of the model to check its quality. "
   ]
  },
  {
   "cell_type": "code",
   "execution_count": 87,
   "metadata": {
    "scrolled": true
   },
   "outputs": [
    {
     "name": "stdout",
     "output_type": "stream",
     "text": [
      "Coefficients: \n",
      " [-4.38824268e-05  1.62262826e-02 -1.57331661e-02]\n",
      "Mean squared error: 0.99\n",
      "Variance score: 0.00\n"
     ]
    }
   ],
   "source": [
    "from sklearn.metrics import mean_squared_error, r2_score\n",
    "\n",
    "print('Coefficients: \\n', lm2.coef_)\n",
    "# The mean squared error\n",
    "print(\"Mean squared error: %.2f\"\n",
    "      % mean_squared_error(test_y, lm2_pred))\n",
    "# Explained variance score: 1 is perfect prediction\n",
    "print('Variance score: %.2f' % r2_score(test_y, lm2_pred))\n"
   ]
  },
  {
   "cell_type": "raw",
   "metadata": {},
   "source": [
    "We saw that the Linear regression model did very well with an RMSE of 0.99 and a variance of 0. \n",
    "\n",
    "Let us now build a Linear Support Vector Machine algorithm and compare its performance with the Linear Regression model. "
   ]
  },
  {
   "cell_type": "code",
   "execution_count": 88,
   "metadata": {
    "scrolled": true
   },
   "outputs": [
    {
     "name": "stdout",
     "output_type": "stream",
     "text": [
      "1.5466698671471586\n"
     ]
    }
   ],
   "source": [
    "from sklearn.svm import LinearSVC\n",
    " \n",
    "# initialise the SVM classifier\n",
    "classifier = LinearSVC()\n",
    "\n",
    "classifier.fit(train_X, train_y)\n",
    "\n",
    "svm_pred = classifier.predict(test_X)\n",
    "\n",
    "\n",
    "print(np.sqrt(metrics.mean_squared_error(test_y, svm_pred))) "
   ]
  },
  {
   "cell_type": "raw",
   "metadata": {},
   "source": [
    "The linear SVM performs with an RMSE of 1.54. Let us also see it's variance. "
   ]
  },
  {
   "cell_type": "code",
   "execution_count": 89,
   "metadata": {
    "scrolled": true
   },
   "outputs": [
    {
     "name": "stdout",
     "output_type": "stream",
     "text": [
      "Coefficients: \n",
      " [[-0.00298913 -0.00555813  0.00209684]\n",
      " [ 0.00914317  0.00940063  0.00544355]\n",
      " [-0.01231301  0.00552974 -0.00280085]\n",
      " [-0.00759503 -0.01644919  0.01478514]\n",
      " [-0.00717427  0.00254232 -0.00487307]]\n",
      "Mean squared error: 2.39\n",
      "Variance score: -1.40\n"
     ]
    }
   ],
   "source": [
    "from sklearn.metrics import mean_squared_error, r2_score\n",
    "\n",
    "print('Coefficients: \\n', classifier.coef_)\n",
    "# The mean squared error\n",
    "print(\"Mean squared error: %.2f\"\n",
    "      % mean_squared_error(test_y, svm_pred))\n",
    "# Explained variance score: 1 is perfect prediction\n",
    "print('Variance score: %.2f' % r2_score(test_y, svm_pred))\n"
   ]
  },
  {
   "cell_type": "raw",
   "metadata": {},
   "source": [
    "Thus we see that the Linear SVM performs with an MSE of 2.39 and a Variance score of -1.40.\n",
    "\n",
    "Therefore, the linear Regression model works better for predicting the star rating of the restaurents. "
   ]
  },
  {
   "cell_type": "markdown",
   "metadata": {},
   "source": [
    "## Prediction of Likes for a restaurent"
   ]
  },
  {
   "cell_type": "raw",
   "metadata": {},
   "source": [
    "Each restaurent has a review attached to it. It also has the number of likes attached to it. In this section we will be building predictor models to predict how many likes a restaurent gets based on the review it has recieved in the past. "
   ]
  },
  {
   "cell_type": "code",
   "execution_count": 118,
   "metadata": {},
   "outputs": [],
   "source": [
    "import nltk\n",
    "from nltk.corpus import stopwords\n",
    "from sklearn.feature_extraction.text import CountVectorizer\n",
    "import string\n"
   ]
  },
  {
   "cell_type": "code",
   "execution_count": 119,
   "metadata": {},
   "outputs": [
    {
     "data": {
      "text/plain": [
       "13"
      ]
     },
     "execution_count": 119,
     "metadata": {},
     "output_type": "execute_result"
    }
   ],
   "source": [
    "yelp_tip['likes'].nunique()"
   ]
  },
  {
   "cell_type": "raw",
   "metadata": {},
   "source": [
    "We will only consider the likes above 0. "
   ]
  },
  {
   "cell_type": "code",
   "execution_count": 120,
   "metadata": {},
   "outputs": [],
   "source": [
    "tp= yelp_tip['likes'] >0\n",
    "tip = yelp_tip[tp]"
   ]
  },
  {
   "cell_type": "code",
   "execution_count": 121,
   "metadata": {},
   "outputs": [],
   "source": [
    "X = tip['text']\n",
    "y = tip['likes']"
   ]
  },
  {
   "cell_type": "code",
   "execution_count": 122,
   "metadata": {
    "scrolled": true
   },
   "outputs": [
    {
     "name": "stdout",
     "output_type": "stream",
     "text": [
      "[nltk_data] Downloading package stopwords to\n",
      "[nltk_data]     C:\\Users\\rohan\\AppData\\Roaming\\nltk_data...\n",
      "[nltk_data]   Package stopwords is already up-to-date!\n"
     ]
    },
    {
     "data": {
      "text/plain": [
       "True"
      ]
     },
     "execution_count": 122,
     "metadata": {},
     "output_type": "execute_result"
    }
   ],
   "source": [
    "import nltk\n",
    "nltk.download('stopwords')"
   ]
  },
  {
   "cell_type": "raw",
   "metadata": {},
   "source": [
    "Thus, we downloaded the stop words. It is important for us to remove the stop words from the reviews to make some good sense of it. We will also remove the punctuations and make sure we get a cleaned text as a list of words. "
   ]
  },
  {
   "cell_type": "code",
   "execution_count": 123,
   "metadata": {},
   "outputs": [],
   "source": [
    "def text_process(text):\n",
    "    '''\n",
    "    Takes in a string of text, then performs the following:\n",
    "    1. Remove all punctuation\n",
    "    2. Remove all stopwords\n",
    "    3. Return the cleaned text as a list of words\n",
    "    '''\n",
    "    nopunc = [char for char in text if char not in string.punctuation]\n",
    "    nopunc = ''.join(nopunc)\n",
    "    \n",
    "    return [word for word in nopunc.split() if word.lower() not in stopwords.words('english')]"
   ]
  },
  {
   "cell_type": "raw",
   "metadata": {},
   "source": [
    "We will now convert the list of words we got from the above function into matrix of token counts. We will define a bowtransformer to do so. "
   ]
  },
  {
   "cell_type": "code",
   "execution_count": 124,
   "metadata": {},
   "outputs": [],
   "source": [
    "bow_transformer = CountVectorizer(analyzer=text_process).fit(X)"
   ]
  },
  {
   "cell_type": "raw",
   "metadata": {},
   "source": [
    "This bow transformer will now transform the list of words into matrix form of token words. "
   ]
  },
  {
   "cell_type": "code",
   "execution_count": 126,
   "metadata": {},
   "outputs": [],
   "source": [
    "X = bow_transformer.transform(X)"
   ]
  },
  {
   "cell_type": "code",
   "execution_count": 127,
   "metadata": {},
   "outputs": [
    {
     "name": "stdout",
     "output_type": "stream",
     "text": [
      "Shape of Sparse Matrix:  (16284, 25593)\n",
      "Amount of Non-Zero occurrences:  164594\n"
     ]
    }
   ],
   "source": [
    "print('Shape of Sparse Matrix: ', X.shape)\n",
    "print('Amount of Non-Zero occurrences: ', X.nnz)\n",
    "# Percentage of non-zero values"
   ]
  },
  {
   "cell_type": "raw",
   "metadata": {},
   "source": [
    "We thus got the shape of our sparce matrix. "
   ]
  },
  {
   "cell_type": "code",
   "execution_count": 128,
   "metadata": {},
   "outputs": [
    {
     "data": {
      "text/plain": [
       "0.03949405342322604"
      ]
     },
     "execution_count": 128,
     "metadata": {},
     "output_type": "execute_result"
    }
   ],
   "source": [
    "density = (100.0 * X.nnz / (X.shape[0] * X.shape[1]))\n",
    "density"
   ]
  },
  {
   "cell_type": "raw",
   "metadata": {},
   "source": [
    "So we see that only 3% of the values are non zero. This is a rudimentary form of algorithm at this stage. With better and cleaner data it can be more powerful. We will now proceed by splitting the data into training and testing datasets."
   ]
  },
  {
   "cell_type": "code",
   "execution_count": 129,
   "metadata": {},
   "outputs": [],
   "source": [
    "from sklearn.model_selection import train_test_split\n",
    "X_train, X_test, y_train, y_test = train_test_split(X, y, test_size=0.3, random_state=101)"
   ]
  },
  {
   "cell_type": "raw",
   "metadata": {},
   "source": [
    "Let us now build a naive bayes classifier to predict the likes depending on the words we filtered out from the reviews. "
   ]
  },
  {
   "cell_type": "code",
   "execution_count": 130,
   "metadata": {},
   "outputs": [
    {
     "data": {
      "text/plain": [
       "MultinomialNB(alpha=1.0, class_prior=None, fit_prior=True)"
      ]
     },
     "execution_count": 130,
     "metadata": {},
     "output_type": "execute_result"
    }
   ],
   "source": [
    "from sklearn.naive_bayes import MultinomialNB\n",
    "nb = MultinomialNB()\n",
    "nb.fit(X_train, y_train)"
   ]
  },
  {
   "cell_type": "raw",
   "metadata": {},
   "source": [
    "Let us predict the model on our testing dataset. "
   ]
  },
  {
   "cell_type": "code",
   "execution_count": 131,
   "metadata": {},
   "outputs": [],
   "source": [
    "preds = nb.predict(X_test)"
   ]
  },
  {
   "cell_type": "raw",
   "metadata": {},
   "source": [
    "To evaluate our model performance, we will use the confusion matrix. "
   ]
  },
  {
   "cell_type": "code",
   "execution_count": 132,
   "metadata": {
    "scrolled": true
   },
   "outputs": [
    {
     "name": "stdout",
     "output_type": "stream",
     "text": [
      "[[4267  141    9    0    0    0    0    0    0]\n",
      " [ 373   10    0    0    0    0    0    0    0]\n",
      " [  53    3    0    0    0    0    0    0    0]\n",
      " [  15    1    0    0    0    0    0    0    0]\n",
      " [   8    1    0    0    0    0    0    0    0]\n",
      " [   2    0    0    0    0    0    0    0    0]\n",
      " [   0    1    0    0    0    0    0    0    0]\n",
      " [   1    0    0    0    0    0    0    0    0]\n",
      " [   1    0    0    0    0    0    0    0    0]]\n",
      "\n",
      "\n",
      "             precision    recall  f1-score   support\n",
      "\n",
      "          1       0.90      0.97      0.93      4417\n",
      "          2       0.06      0.03      0.04       383\n",
      "          3       0.00      0.00      0.00        56\n",
      "          4       0.00      0.00      0.00        16\n",
      "          5       0.00      0.00      0.00         9\n",
      "          6       0.00      0.00      0.00         2\n",
      "          8       0.00      0.00      0.00         1\n",
      "         12       0.00      0.00      0.00         1\n",
      "         15       0.00      0.00      0.00         1\n",
      "\n",
      "avg / total       0.82      0.88      0.85      4886\n",
      "\n"
     ]
    }
   ],
   "source": [
    "from sklearn.metrics import confusion_matrix, classification_report\n",
    "print(confusion_matrix(y_test, preds))\n",
    "print('\\n')\n",
    "print(classification_report(y_test, preds))"
   ]
  },
  {
   "cell_type": "raw",
   "metadata": {},
   "source": [
    "Thus we see the model performed with an accuracy of 85%. \n",
    "\n",
    "Let us now build a SVM classifier and see how it performs compared to the Naive Bayes model. "
   ]
  },
  {
   "cell_type": "raw",
   "metadata": {},
   "source": [
    "Training the SVM on our training dataset. "
   ]
  },
  {
   "cell_type": "code",
   "execution_count": 133,
   "metadata": {},
   "outputs": [
    {
     "data": {
      "text/plain": [
       "LinearSVC(C=1.0, class_weight=None, dual=True, fit_intercept=True,\n",
       "     intercept_scaling=1, loss='squared_hinge', max_iter=1000,\n",
       "     multi_class='ovr', penalty='l2', random_state=None, tol=0.0001,\n",
       "     verbose=0)"
      ]
     },
     "execution_count": 133,
     "metadata": {},
     "output_type": "execute_result"
    }
   ],
   "source": [
    "from sklearn.svm import LinearSVC\n",
    " \n",
    "# initialise the SVM classifier\n",
    "classifier = LinearSVC()\n",
    " \n",
    "# train the classifier\n",
    "\n",
    "classifier.fit(X_train, y_train)"
   ]
  },
  {
   "cell_type": "raw",
   "metadata": {},
   "source": [
    "Let us predict using our SVM model on the testing dataset. "
   ]
  },
  {
   "cell_type": "code",
   "execution_count": 134,
   "metadata": {},
   "outputs": [],
   "source": [
    "preds_svm = classifier.predict(X_test)"
   ]
  },
  {
   "cell_type": "raw",
   "metadata": {},
   "source": [
    "Using the confusion matrix, we will check the performance of our model. "
   ]
  },
  {
   "cell_type": "code",
   "execution_count": 135,
   "metadata": {
    "scrolled": true
   },
   "outputs": [
    {
     "name": "stdout",
     "output_type": "stream",
     "text": [
      "[[4228  187    2    0    0    0    0    0    0]\n",
      " [ 358   23    2    0    0    0    0    0    0]\n",
      " [  51    4    1    0    0    0    0    0    0]\n",
      " [  15    1    0    0    0    0    0    0    0]\n",
      " [   7    2    0    0    0    0    0    0    0]\n",
      " [   2    0    0    0    0    0    0    0    0]\n",
      " [   1    0    0    0    0    0    0    0    0]\n",
      " [   1    0    0    0    0    0    0    0    0]\n",
      " [   1    0    0    0    0    0    0    0    0]]\n",
      "\n",
      "\n",
      "             precision    recall  f1-score   support\n",
      "\n",
      "          1       0.91      0.96      0.93      4417\n",
      "          2       0.11      0.06      0.08       383\n",
      "          3       0.20      0.02      0.03        56\n",
      "          4       0.00      0.00      0.00        16\n",
      "          5       0.00      0.00      0.00         9\n",
      "          6       0.00      0.00      0.00         2\n",
      "          8       0.00      0.00      0.00         1\n",
      "         12       0.00      0.00      0.00         1\n",
      "         15       0.00      0.00      0.00         1\n",
      "\n",
      "avg / total       0.83      0.87      0.85      4886\n",
      "\n"
     ]
    }
   ],
   "source": [
    "print(confusion_matrix(y_test, preds_svm))\n",
    "print('\\n')\n",
    "print(classification_report(y_test, preds_svm))"
   ]
  },
  {
   "cell_type": "raw",
   "metadata": {},
   "source": [
    "We can see that even SVM performed with 85% accuracy. This is because in this dataset, there are overwhelming number of 1 likes. As a result, those 1s dominate the predictions and hence the accuracy for both models is pretty much the same. \n",
    "\n",
    "The key takeaway though is that this is the way in which we can do an NLP on the reviews and predict a parameter based on it with the help of vectorization. With better data and better variance of likes, we would see that the models we developed will be much more powerfull. "
   ]
  },
  {
   "cell_type": "markdown",
   "metadata": {},
   "source": [
    "## Conclusion"
   ]
  },
  {
   "cell_type": "raw",
   "metadata": {},
   "source": [
    "We thus conclude the Yelp Data Analysis project. We imported the big data files of the Yelp dataset as a part of this project. We then went on to analyze different aspects of the Yelp business, reviews, checkins and users. By exloring the data, we identified which city has the most bussinesses in this dataset. We also identified how the restaurents in this dataset are performing by checking their star rating distribution. We then explored the most popular Las Vegas and the most polular categories of Yelp businesses therein. We then went on to analyze the yelp checkins in depth and built a non parametric method to sample from a pdf by using KDE. We then built a model to explore the review count and average stars, MCMC estimated a model based on the normal distribution of the data. We then built linear regression and SVM algorithms to predict the star rating of the restaurents and lastly built a Naive Bayes estimator and SVM to predict the likes based on the reviews of the restaurent. "
   ]
  },
  {
   "cell_type": "markdown",
   "metadata": {},
   "source": [
    "## Refernces"
   ]
  },
  {
   "cell_type": "raw",
   "metadata": {},
   "source": [
    "1. https://www.kaggle.com/jagangupta/what-s-in-a-review-yelp-ratings-eda\n",
    "2. https://www.ritchieng.com/machine-learning-evaluate-linear-regression-model/\n",
    "3. https://www.kaggle.com/tejasrinivas/factors-affecting-closure-of-a-business-on-yelp\n",
    "4. https://medium.com/tensorist/classifying-yelp-reviews-using-nltk-and-scikit-learn-c58e71e962d9\n",
    "5. http://scikit-learn.org/stable/modules/generated/sklearn.gaussian_process.GaussianProcessRegressor.html\n",
    "6. https://www.kaggle.com/jagangupta/what-s-in-a-review-yelp-ratings-eda\n",
    "7. http://www.developintelligence.com/blog/2017/03/predicting-yelp-star-ratings-review-"
   ]
  }
 ],
 "metadata": {
  "kernelspec": {
   "display_name": "Python 3",
   "language": "python",
   "name": "python3"
  },
  "language_info": {
   "codemirror_mode": {
    "name": "ipython",
    "version": 3
   },
   "file_extension": ".py",
   "mimetype": "text/x-python",
   "name": "python",
   "nbconvert_exporter": "python",
   "pygments_lexer": "ipython3",
   "version": "3.6.4"
  }
 },
 "nbformat": 4,
 "nbformat_minor": 2
}
